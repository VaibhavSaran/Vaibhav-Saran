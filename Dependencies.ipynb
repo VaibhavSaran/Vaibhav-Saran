{
 "cells": [
  {
   "cell_type": "markdown",
   "id": "f683e821-27df-4721-afd7-d7aacbfb7c8c",
   "metadata": {},
   "source": [
    "# INSTALLING PREREQUISITE LIBRARIES"
   ]
  },
  {
   "cell_type": "code",
   "execution_count": 1,
   "id": "8555b1e3-2d5a-4b87-ad3e-baaa2ecf35c8",
   "metadata": {
    "collapsed": true,
    "jupyter": {
     "outputs_hidden": true
    },
    "tags": []
   },
   "outputs": [
    {
     "name": "stdout",
     "output_type": "stream",
     "text": [
      "Collecting opencv-python==4.5.3.56\n",
      "  Downloading opencv_python-4.5.3.56-cp38-cp38-win_amd64.whl (34.9 MB)\n",
      "     --------------------------------------- 34.9/34.9 MB 15.6 MB/s eta 0:00:00\n",
      "Requirement already satisfied: numpy>=1.17.3 in d:\\innomatics research labs\\vaibhav saran\\irl_class\\lib\\site-packages (from opencv-python==4.5.3.56) (1.24.1)\n",
      "Installing collected packages: opencv-python\n",
      "  Attempting uninstall: opencv-python\n",
      "    Found existing installation: opencv-python 4.7.0.68\n",
      "    Uninstalling opencv-python-4.7.0.68:\n",
      "      Successfully uninstalled opencv-python-4.7.0.68\n",
      "Successfully installed opencv-python-4.5.3.56\n"
     ]
    }
   ],
   "source": [
    "!pip install opencv-python==4.5.3.56"
   ]
  },
  {
   "cell_type": "code",
   "execution_count": 2,
   "id": "b2c0fe65-9736-4924-bcee-b982551339ef",
   "metadata": {
    "collapsed": true,
    "jupyter": {
     "outputs_hidden": true
    },
    "tags": []
   },
   "outputs": [
    {
     "name": "stdout",
     "output_type": "stream",
     "text": [
      "Requirement already satisfied: scipy in d:\\innomatics research labs\\vaibhav saran\\irl_class\\lib\\site-packages (1.10.0)\n",
      "Requirement already satisfied: numpy<1.27.0,>=1.19.5 in d:\\innomatics research labs\\vaibhav saran\\irl_class\\lib\\site-packages (from scipy) (1.24.1)\n"
     ]
    }
   ],
   "source": [
    "!pip install scipy"
   ]
  },
  {
   "cell_type": "code",
   "execution_count": 3,
   "id": "0fbaf157-42c3-46d5-838b-cb845a16ac03",
   "metadata": {
    "collapsed": true,
    "jupyter": {
     "outputs_hidden": true
    },
    "tags": []
   },
   "outputs": [
    {
     "name": "stdout",
     "output_type": "stream",
     "text": [
      "Collecting numpy==1.19.5\n",
      "  Downloading numpy-1.19.5-cp38-cp38-win_amd64.whl (13.3 MB)\n",
      "     --------------------------------------- 13.3/13.3 MB 18.2 MB/s eta 0:00:00\n",
      "Installing collected packages: numpy\n",
      "  Attempting uninstall: numpy\n",
      "    Found existing installation: numpy 1.24.1\n",
      "    Uninstalling numpy-1.24.1:\n",
      "      Successfully uninstalled numpy-1.24.1\n",
      "Successfully installed numpy-1.19.5\n"
     ]
    },
    {
     "name": "stderr",
     "output_type": "stream",
     "text": [
      "ERROR: pip's dependency resolver does not currently take into account all the packages that are installed. This behaviour is the source of the following dependency conflicts.\n",
      "tensorflow-intel 2.11.0 requires numpy>=1.20, but you have numpy 1.19.5 which is incompatible.\n",
      "pandas 1.5.3 requires numpy>=1.20.3; python_version < \"3.10\", but you have numpy 1.19.5 which is incompatible.\n"
     ]
    }
   ],
   "source": [
    "!pip install numpy==1.19.5"
   ]
  },
  {
   "cell_type": "code",
   "execution_count": 4,
   "id": "b84bb1fb",
   "metadata": {
    "collapsed": true,
    "jupyter": {
     "outputs_hidden": true
    },
    "tags": []
   },
   "outputs": [
    {
     "name": "stdout",
     "output_type": "stream",
     "text": [
      "Collecting sip==6.6.1\n",
      "  Downloading sip-6.6.1-cp37-abi3-win_amd64.whl (567 kB)\n",
      "     ------------------------------------- 567.4/567.4 kB 11.9 MB/s eta 0:00:00\n",
      "Collecting toml\n",
      "  Downloading toml-0.10.2-py2.py3-none-any.whl (16 kB)\n",
      "Requirement already satisfied: packaging in d:\\innomatics research labs\\vaibhav saran\\irl_class\\lib\\site-packages (from sip==6.6.1) (23.0)\n",
      "Collecting ply\n",
      "  Downloading ply-3.11-py2.py3-none-any.whl (49 kB)\n",
      "     ---------------------------------------- 49.6/49.6 kB ? eta 0:00:00\n",
      "Requirement already satisfied: setuptools in d:\\innomatics research labs\\vaibhav saran\\irl_class\\lib\\site-packages (from sip==6.6.1) (56.0.0)\n",
      "Installing collected packages: ply, toml, sip\n",
      "Successfully installed ply-3.11 sip-6.6.1 toml-0.10.2\n"
     ]
    }
   ],
   "source": [
    "!pip install sip==6.6.1"
   ]
  },
  {
   "cell_type": "code",
   "execution_count": 5,
   "id": "af461a11-d787-4286-aecb-c500cece6dfe",
   "metadata": {
    "collapsed": true,
    "jupyter": {
     "outputs_hidden": true
    },
    "tags": []
   },
   "outputs": [
    {
     "name": "stdout",
     "output_type": "stream",
     "text": [
      "Collecting wheel==0.36.2\n",
      "  Downloading wheel-0.36.2-py2.py3-none-any.whl (35 kB)\n",
      "Installing collected packages: wheel\n",
      "  Attempting uninstall: wheel\n",
      "    Found existing installation: wheel 0.38.4\n",
      "    Uninstalling wheel-0.38.4:\n",
      "      Successfully uninstalled wheel-0.38.4\n",
      "Successfully installed wheel-0.36.2\n"
     ]
    }
   ],
   "source": [
    "!pip install wheel==0.36.2"
   ]
  },
  {
   "cell_type": "code",
   "execution_count": 6,
   "id": "b57fd6ab-8fad-46ec-a45b-d39d10658c3f",
   "metadata": {
    "collapsed": true,
    "jupyter": {
     "outputs_hidden": true
    },
    "tags": []
   },
   "outputs": [
    {
     "name": "stdout",
     "output_type": "stream",
     "text": [
      "Collecting pandas==1.3.0\n",
      "  Downloading pandas-1.3.0-cp38-cp38-win_amd64.whl (10.2 MB)\n",
      "     ---------------------------------------- 10.2/10.2 MB 9.4 MB/s eta 0:00:00\n",
      "Requirement already satisfied: numpy>=1.17.3 in d:\\innomatics research labs\\vaibhav saran\\irl_class\\lib\\site-packages (from pandas==1.3.0) (1.19.5)\n",
      "Requirement already satisfied: python-dateutil>=2.7.3 in d:\\innomatics research labs\\vaibhav saran\\irl_class\\lib\\site-packages (from pandas==1.3.0) (2.8.2)\n",
      "Requirement already satisfied: pytz>=2017.3 in d:\\innomatics research labs\\vaibhav saran\\irl_class\\lib\\site-packages (from pandas==1.3.0) (2022.7.1)\n",
      "Requirement already satisfied: six>=1.5 in d:\\innomatics research labs\\vaibhav saran\\irl_class\\lib\\site-packages (from python-dateutil>=2.7.3->pandas==1.3.0) (1.16.0)\n",
      "Installing collected packages: pandas\n",
      "  Attempting uninstall: pandas\n",
      "    Found existing installation: pandas 1.5.3\n",
      "    Uninstalling pandas-1.5.3:\n",
      "      Successfully uninstalled pandas-1.5.3\n",
      "Successfully installed pandas-1.3.0\n"
     ]
    }
   ],
   "source": [
    "!pip install pandas==1.3.0"
   ]
  },
  {
   "cell_type": "code",
   "execution_count": 7,
   "id": "7a8abfc2-5dda-484e-81c4-b2dac87bdec6",
   "metadata": {
    "collapsed": true,
    "jupyter": {
     "outputs_hidden": true
    },
    "tags": []
   },
   "outputs": [
    {
     "name": "stdout",
     "output_type": "stream",
     "text": [
      "Requirement already satisfied: uuid==1.30 in d:\\innomatics research labs\\vaibhav saran\\irl_class\\lib\\site-packages (1.30)\n"
     ]
    }
   ],
   "source": [
    "!pip install uuid==1.30"
   ]
  },
  {
   "cell_type": "code",
   "execution_count": 8,
   "id": "398ddc7c-19da-493f-b06c-ba9ce67a2438",
   "metadata": {
    "collapsed": true,
    "jupyter": {
     "outputs_hidden": true
    },
    "tags": []
   },
   "outputs": [
    {
     "name": "stdout",
     "output_type": "stream",
     "text": [
      "Collecting os-win==5.4.0\n",
      "  Downloading os_win-5.4.0-py3-none-any.whl (273 kB)\n",
      "     ------------------------------------- 273.9/273.9 kB 16.5 MB/s eta 0:00:00\n",
      "Requirement already satisfied: eventlet>=0.22.0 in d:\\innomatics research labs\\vaibhav saran\\irl_class\\lib\\site-packages (from os-win==5.4.0) (0.33.3)\n",
      "Requirement already satisfied: PyMI>=1.0.0 in d:\\innomatics research labs\\vaibhav saran\\irl_class\\lib\\site-packages (from os-win==5.4.0) (1.0.6)\n",
      "Requirement already satisfied: oslo.config>=6.8.0 in d:\\innomatics research labs\\vaibhav saran\\irl_class\\lib\\site-packages (from os-win==5.4.0) (9.1.0)\n",
      "Requirement already satisfied: oslo.i18n>=3.15.3 in d:\\innomatics research labs\\vaibhav saran\\irl_class\\lib\\site-packages (from os-win==5.4.0) (5.1.0)\n",
      "Requirement already satisfied: pbr!=2.1.0,>=2.0.0 in d:\\innomatics research labs\\vaibhav saran\\irl_class\\lib\\site-packages (from os-win==5.4.0) (5.11.1)\n",
      "Requirement already satisfied: wmi>=0.5 in d:\\innomatics research labs\\vaibhav saran\\irl_class\\lib\\site-packages (from os-win==5.4.0) (1.5.1)\n",
      "Requirement already satisfied: oslo.concurrency>=3.29.0 in d:\\innomatics research labs\\vaibhav saran\\irl_class\\lib\\site-packages (from os-win==5.4.0) (5.0.1)\n",
      "Requirement already satisfied: oslo.log>=3.36.0 in d:\\innomatics research labs\\vaibhav saran\\irl_class\\lib\\site-packages (from os-win==5.4.0) (5.0.2)\n",
      "Requirement already satisfied: oslo.utils>=4.7.0 in d:\\innomatics research labs\\vaibhav saran\\irl_class\\lib\\site-packages (from os-win==5.4.0) (6.1.0)\n",
      "Requirement already satisfied: six>=1.10.0 in d:\\innomatics research labs\\vaibhav saran\\irl_class\\lib\\site-packages (from eventlet>=0.22.0->os-win==5.4.0) (1.16.0)\n",
      "Requirement already satisfied: dnspython>=1.15.0 in d:\\innomatics research labs\\vaibhav saran\\irl_class\\lib\\site-packages (from eventlet>=0.22.0->os-win==5.4.0) (2.3.0)\n",
      "Requirement already satisfied: greenlet>=0.3 in d:\\innomatics research labs\\vaibhav saran\\irl_class\\lib\\site-packages (from eventlet>=0.22.0->os-win==5.4.0) (2.0.2)\n",
      "Requirement already satisfied: fasteners>=0.7.0 in d:\\innomatics research labs\\vaibhav saran\\irl_class\\lib\\site-packages (from oslo.concurrency>=3.29.0->os-win==5.4.0) (0.18)\n",
      "Requirement already satisfied: requests>=2.18.0 in d:\\innomatics research labs\\vaibhav saran\\irl_class\\lib\\site-packages (from oslo.config>=6.8.0->os-win==5.4.0) (2.28.2)\n",
      "Requirement already satisfied: netaddr>=0.7.18 in d:\\innomatics research labs\\vaibhav saran\\irl_class\\lib\\site-packages (from oslo.config>=6.8.0->os-win==5.4.0) (0.8.0)\n",
      "Requirement already satisfied: stevedore>=1.20.0 in d:\\innomatics research labs\\vaibhav saran\\irl_class\\lib\\site-packages (from oslo.config>=6.8.0->os-win==5.4.0) (4.1.1)\n",
      "Requirement already satisfied: debtcollector>=1.2.0 in d:\\innomatics research labs\\vaibhav saran\\irl_class\\lib\\site-packages (from oslo.config>=6.8.0->os-win==5.4.0) (2.5.0)\n",
      "Requirement already satisfied: rfc3986>=1.2.0 in d:\\innomatics research labs\\vaibhav saran\\irl_class\\lib\\site-packages (from oslo.config>=6.8.0->os-win==5.4.0) (2.0.0)\n",
      "Requirement already satisfied: PyYAML>=5.1 in d:\\innomatics research labs\\vaibhav saran\\irl_class\\lib\\site-packages (from oslo.config>=6.8.0->os-win==5.4.0) (6.0)\n",
      "Requirement already satisfied: oslo.context>=2.21.0 in d:\\innomatics research labs\\vaibhav saran\\irl_class\\lib\\site-packages (from oslo.log>=3.36.0->os-win==5.4.0) (5.0.0)\n",
      "Requirement already satisfied: oslo.serialization>=2.25.0 in d:\\innomatics research labs\\vaibhav saran\\irl_class\\lib\\site-packages (from oslo.log>=3.36.0->os-win==5.4.0) (5.0.0)\n",
      "Requirement already satisfied: python-dateutil>=2.7.0 in d:\\innomatics research labs\\vaibhav saran\\irl_class\\lib\\site-packages (from oslo.log>=3.36.0->os-win==5.4.0) (2.8.2)\n",
      "Requirement already satisfied: pyparsing>=2.1.0 in d:\\innomatics research labs\\vaibhav saran\\irl_class\\lib\\site-packages (from oslo.utils>=4.7.0->os-win==5.4.0) (3.0.9)\n",
      "Requirement already satisfied: iso8601>=0.1.11 in d:\\innomatics research labs\\vaibhav saran\\irl_class\\lib\\site-packages (from oslo.utils>=4.7.0->os-win==5.4.0) (1.1.0)\n",
      "Requirement already satisfied: netifaces>=0.10.4 in d:\\innomatics research labs\\vaibhav saran\\irl_class\\lib\\site-packages (from oslo.utils>=4.7.0->os-win==5.4.0) (0.11.0)\n",
      "Requirement already satisfied: pytz>=2013.6 in d:\\innomatics research labs\\vaibhav saran\\irl_class\\lib\\site-packages (from oslo.utils>=4.7.0->os-win==5.4.0) (2022.7.1)\n",
      "Requirement already satisfied: packaging>=20.4 in d:\\innomatics research labs\\vaibhav saran\\irl_class\\lib\\site-packages (from oslo.utils>=4.7.0->os-win==5.4.0) (23.0)\n",
      "Requirement already satisfied: pywin32 in d:\\innomatics research labs\\vaibhav saran\\irl_class\\lib\\site-packages (from wmi>=0.5->os-win==5.4.0) (305)\n",
      "Requirement already satisfied: wrapt>=1.7.0 in d:\\innomatics research labs\\vaibhav saran\\irl_class\\lib\\site-packages (from debtcollector>=1.2.0->oslo.config>=6.8.0->os-win==5.4.0) (1.14.1)\n",
      "Requirement already satisfied: msgpack>=0.5.2 in d:\\innomatics research labs\\vaibhav saran\\irl_class\\lib\\site-packages (from oslo.serialization>=2.25.0->oslo.log>=3.36.0->os-win==5.4.0) (1.0.4)\n",
      "Requirement already satisfied: certifi>=2017.4.17 in d:\\innomatics research labs\\vaibhav saran\\irl_class\\lib\\site-packages (from requests>=2.18.0->oslo.config>=6.8.0->os-win==5.4.0) (2022.12.7)\n",
      "Requirement already satisfied: idna<4,>=2.5 in d:\\innomatics research labs\\vaibhav saran\\irl_class\\lib\\site-packages (from requests>=2.18.0->oslo.config>=6.8.0->os-win==5.4.0) (3.4)\n",
      "Requirement already satisfied: charset-normalizer<4,>=2 in d:\\innomatics research labs\\vaibhav saran\\irl_class\\lib\\site-packages (from requests>=2.18.0->oslo.config>=6.8.0->os-win==5.4.0) (3.0.1)\n",
      "Requirement already satisfied: urllib3<1.27,>=1.21.1 in d:\\innomatics research labs\\vaibhav saran\\irl_class\\lib\\site-packages (from requests>=2.18.0->oslo.config>=6.8.0->os-win==5.4.0) (1.26.14)\n",
      "Installing collected packages: os-win\n",
      "  Attempting uninstall: os-win\n",
      "    Found existing installation: os-win 5.8.0\n",
      "    Uninstalling os-win-5.8.0:\n",
      "      Successfully uninstalled os-win-5.8.0\n",
      "Successfully installed os-win-5.4.0\n"
     ]
    }
   ],
   "source": [
    "!pip install os-win==5.4.0"
   ]
  },
  {
   "cell_type": "code",
   "execution_count": 9,
   "id": "61d3e551-e2b9-4b61-bdd6-01ea1c09389c",
   "metadata": {
    "collapsed": true,
    "jupyter": {
     "outputs_hidden": true
    },
    "tags": []
   },
   "outputs": [
    {
     "name": "stdout",
     "output_type": "stream",
     "text": [
      "Collecting pyqt5==5.15.4\n",
      "  Downloading PyQt5-5.15.4-cp36.cp37.cp38.cp39-none-win_amd64.whl (6.8 MB)\n",
      "     ---------------------------------------- 6.8/6.8 MB 25.6 MB/s eta 0:00:00\n",
      "Requirement already satisfied: PyQt5-Qt5>=5.15 in d:\\innomatics research labs\\vaibhav saran\\irl_class\\lib\\site-packages (from pyqt5==5.15.4) (5.15.2)\n",
      "Requirement already satisfied: PyQt5-sip<13,>=12.8 in d:\\innomatics research labs\\vaibhav saran\\irl_class\\lib\\site-packages (from pyqt5==5.15.4) (12.11.1)\n",
      "Installing collected packages: pyqt5\n",
      "  Attempting uninstall: pyqt5\n",
      "    Found existing installation: PyQt5 5.15.8\n",
      "    Uninstalling PyQt5-5.15.8:\n",
      "      Successfully uninstalled PyQt5-5.15.8\n",
      "Successfully installed pyqt5-5.15.4\n"
     ]
    }
   ],
   "source": [
    "!pip install pyqt5==5.15.4"
   ]
  },
  {
   "cell_type": "code",
   "execution_count": 13,
   "id": "1818c539-6fe1-4e68-ba98-8a7370b90db9",
   "metadata": {
    "collapsed": true,
    "jupyter": {
     "outputs_hidden": true
    },
    "tags": []
   },
   "outputs": [
    {
     "name": "stdout",
     "output_type": "stream",
     "text": [
      "Requirement already satisfied: lxml==4.6.3 in d:\\innomatics research labs\\vaibhav saran\\irl_class\\lib\\site-packages (4.6.3)\n"
     ]
    }
   ],
   "source": [
    "!pip install lxml==4.6.3"
   ]
  },
  {
   "cell_type": "code",
   "execution_count": 14,
   "id": "3b9f84fe",
   "metadata": {
    "collapsed": true,
    "jupyter": {
     "outputs_hidden": true
    },
    "tags": []
   },
   "outputs": [
    {
     "name": "stdout",
     "output_type": "stream",
     "text": [
      "Requirement already satisfied: libs in d:\\innomatics research labs\\vaibhav saran\\irl_class\\lib\\site-packages (0.0.10)\n"
     ]
    }
   ],
   "source": [
    "!py -m pip install libs"
   ]
  },
  {
   "cell_type": "code",
   "execution_count": 15,
   "id": "95a1aa36-87da-496b-a94a-480069329d74",
   "metadata": {
    "collapsed": true,
    "jupyter": {
     "outputs_hidden": true
    },
    "tags": []
   },
   "outputs": [
    {
     "name": "stdout",
     "output_type": "stream",
     "text": [
      "Requirement already satisfied: wget==3.2 in d:\\innomatics research labs\\vaibhav saran\\irl_class\\lib\\site-packages (3.2)\n"
     ]
    }
   ],
   "source": [
    "# To use models from Tensorflow model zoo\n",
    "!pip install wget==3.2"
   ]
  },
  {
   "cell_type": "code",
   "execution_count": 16,
   "id": "821f787e-3a52-4dfe-a07e-9b49a082ff94",
   "metadata": {
    "collapsed": true,
    "jupyter": {
     "outputs_hidden": true
    },
    "tags": []
   },
   "outputs": [
    {
     "name": "stdout",
     "output_type": "stream",
     "text": [
      "Requirement already satisfied: opt-einsum==3.3.0 in d:\\innomatics research labs\\vaibhav saran\\irl_class\\lib\\site-packages (3.3.0)\n",
      "Requirement already satisfied: numpy>=1.7 in d:\\innomatics research labs\\vaibhav saran\\irl_class\\lib\\site-packages (from opt-einsum==3.3.0) (1.19.5)\n"
     ]
    }
   ],
   "source": [
    "!pip install opt-einsum==3.3.0"
   ]
  },
  {
   "cell_type": "code",
   "execution_count": 17,
   "id": "96c06bca-3da4-44b4-8ee8-efdf0da220cd",
   "metadata": {
    "collapsed": true,
    "jupyter": {
     "outputs_hidden": true
    },
    "tags": []
   },
   "outputs": [
    {
     "name": "stdout",
     "output_type": "stream",
     "text": [
      "Requirement already satisfied: gast==0.4.0 in d:\\innomatics research labs\\vaibhav saran\\irl_class\\lib\\site-packages (0.4.0)\n"
     ]
    }
   ],
   "source": [
    "!pip install gast==0.4.0"
   ]
  },
  {
   "cell_type": "code",
   "execution_count": 18,
   "id": "828d114a-bc5e-44ab-b0f3-dcd5f2562427",
   "metadata": {
    "collapsed": true,
    "jupyter": {
     "outputs_hidden": true
    },
    "tags": []
   },
   "outputs": [
    {
     "name": "stdout",
     "output_type": "stream",
     "text": [
      "Requirement already satisfied: astunparse==1.6.3 in d:\\innomatics research labs\\vaibhav saran\\irl_class\\lib\\site-packages (1.6.3)\n",
      "Requirement already satisfied: six<2.0,>=1.6.1 in d:\\innomatics research labs\\vaibhav saran\\irl_class\\lib\\site-packages (from astunparse==1.6.3) (1.16.0)\n",
      "Requirement already satisfied: wheel<1.0,>=0.23.0 in d:\\innomatics research labs\\vaibhav saran\\irl_class\\lib\\site-packages (from astunparse==1.6.3) (0.36.2)\n"
     ]
    }
   ],
   "source": [
    "!pip install astunparse==1.6.3"
   ]
  },
  {
   "cell_type": "code",
   "execution_count": 25,
   "id": "dcb853cc-1704-47fe-a279-b5b3b79ecf1a",
   "metadata": {
    "tags": []
   },
   "outputs": [
    {
     "name": "stdout",
     "output_type": "stream",
     "text": [
      "Requirement already satisfied: termcolor==1.1.0 in d:\\innomatics research labs\\vaibhav saran\\irl_class\\lib\\site-packages (1.1.0)\n"
     ]
    }
   ],
   "source": [
    "!pip install termcolor==1.1.0"
   ]
  },
  {
   "cell_type": "code",
   "execution_count": 20,
   "id": "2d35e5d6-d485-40f1-8b82-ba6058e5ffac",
   "metadata": {
    "collapsed": true,
    "jupyter": {
     "outputs_hidden": true
    },
    "tags": []
   },
   "outputs": [
    {
     "name": "stdout",
     "output_type": "stream",
     "text": [
      "Requirement already satisfied: Keras-Preprocessing==1.1.2 in d:\\innomatics research labs\\vaibhav saran\\irl_class\\lib\\site-packages (1.1.2)\n",
      "Requirement already satisfied: six>=1.9.0 in d:\\innomatics research labs\\vaibhav saran\\irl_class\\lib\\site-packages (from Keras-Preprocessing==1.1.2) (1.16.0)\n",
      "Requirement already satisfied: numpy>=1.9.1 in d:\\innomatics research labs\\vaibhav saran\\irl_class\\lib\\site-packages (from Keras-Preprocessing==1.1.2) (1.19.5)\n"
     ]
    }
   ],
   "source": [
    "!pip install Keras-Preprocessing==1.1.2"
   ]
  },
  {
   "cell_type": "code",
   "execution_count": 26,
   "id": "3336563e-8569-4fb0-b8ae-7f9d1cc944d9",
   "metadata": {
    "tags": []
   },
   "outputs": [
    {
     "name": "stdout",
     "output_type": "stream",
     "text": [
      "Requirement already satisfied: flatbuffers==1.12 in d:\\innomatics research labs\\vaibhav saran\\irl_class\\lib\\site-packages (1.12)\n"
     ]
    }
   ],
   "source": [
    "!pip install flatbuffers==1.12"
   ]
  },
  {
   "cell_type": "code",
   "execution_count": 27,
   "id": "1e298a7b-207c-4a8e-9922-3a8abe3e8d9a",
   "metadata": {
    "collapsed": true,
    "jupyter": {
     "outputs_hidden": true
    },
    "tags": []
   },
   "outputs": [
    {
     "name": "stdout",
     "output_type": "stream",
     "text": [
      "Requirement already satisfied: keras==2.4.3 in d:\\innomatics research labs\\vaibhav saran\\irl_class\\lib\\site-packages (2.4.3)\n",
      "Requirement already satisfied: numpy>=1.9.1 in d:\\innomatics research labs\\vaibhav saran\\irl_class\\lib\\site-packages (from keras==2.4.3) (1.19.5)\n",
      "Requirement already satisfied: pyyaml in d:\\innomatics research labs\\vaibhav saran\\irl_class\\lib\\site-packages (from keras==2.4.3) (6.0)\n",
      "Requirement already satisfied: scipy>=0.14 in d:\\innomatics research labs\\vaibhav saran\\irl_class\\lib\\site-packages (from keras==2.4.3) (1.10.0)\n",
      "Requirement already satisfied: h5py in d:\\innomatics research labs\\vaibhav saran\\irl_class\\lib\\site-packages (from keras==2.4.3) (3.1.0)\n"
     ]
    }
   ],
   "source": [
    "!pip install keras==2.4.3"
   ]
  },
  {
   "cell_type": "code",
   "execution_count": 28,
   "id": "aef99182-eff9-43f9-b8ba-bf949baa2aad",
   "metadata": {
    "collapsed": true,
    "jupyter": {
     "outputs_hidden": true
    },
    "tags": []
   },
   "outputs": [
    {
     "name": "stdout",
     "output_type": "stream",
     "text": [
      "Requirement already satisfied: tensorflow==2.5.0 in d:\\innomatics research labs\\vaibhav saran\\irl_class\\lib\\site-packages (2.5.0)\n",
      "Requirement already satisfied: wheel~=0.35 in d:\\innomatics research labs\\vaibhav saran\\irl_class\\lib\\site-packages (from tensorflow==2.5.0) (0.36.2)\n",
      "Requirement already satisfied: protobuf>=3.9.2 in d:\\innomatics research labs\\vaibhav saran\\irl_class\\lib\\site-packages (from tensorflow==2.5.0) (3.19.6)\n",
      "Requirement already satisfied: grpcio~=1.34.0 in d:\\innomatics research labs\\vaibhav saran\\irl_class\\lib\\site-packages (from tensorflow==2.5.0) (1.34.1)\n",
      "Requirement already satisfied: wrapt~=1.12.1 in d:\\innomatics research labs\\vaibhav saran\\irl_class\\lib\\site-packages (from tensorflow==2.5.0) (1.12.1)\n",
      "Requirement already satisfied: h5py~=3.1.0 in d:\\innomatics research labs\\vaibhav saran\\irl_class\\lib\\site-packages (from tensorflow==2.5.0) (3.1.0)\n",
      "Requirement already satisfied: six~=1.15.0 in d:\\innomatics research labs\\vaibhav saran\\irl_class\\lib\\site-packages (from tensorflow==2.5.0) (1.15.0)\n",
      "Requirement already satisfied: termcolor~=1.1.0 in d:\\innomatics research labs\\vaibhav saran\\irl_class\\lib\\site-packages (from tensorflow==2.5.0) (1.1.0)\n",
      "Requirement already satisfied: tensorflow-estimator<2.6.0,>=2.5.0rc0 in d:\\innomatics research labs\\vaibhav saran\\irl_class\\lib\\site-packages (from tensorflow==2.5.0) (2.5.0)\n",
      "Requirement already satisfied: keras-preprocessing~=1.1.2 in d:\\innomatics research labs\\vaibhav saran\\irl_class\\lib\\site-packages (from tensorflow==2.5.0) (1.1.2)\n",
      "Requirement already satisfied: numpy~=1.19.2 in d:\\innomatics research labs\\vaibhav saran\\irl_class\\lib\\site-packages (from tensorflow==2.5.0) (1.19.5)\n",
      "Requirement already satisfied: google-pasta~=0.2 in d:\\innomatics research labs\\vaibhav saran\\irl_class\\lib\\site-packages (from tensorflow==2.5.0) (0.2.0)\n",
      "Requirement already satisfied: opt-einsum~=3.3.0 in d:\\innomatics research labs\\vaibhav saran\\irl_class\\lib\\site-packages (from tensorflow==2.5.0) (3.3.0)\n",
      "Requirement already satisfied: gast==0.4.0 in d:\\innomatics research labs\\vaibhav saran\\irl_class\\lib\\site-packages (from tensorflow==2.5.0) (0.4.0)\n",
      "Requirement already satisfied: absl-py~=0.10 in d:\\innomatics research labs\\vaibhav saran\\irl_class\\lib\\site-packages (from tensorflow==2.5.0) (0.15.0)\n",
      "Requirement already satisfied: typing-extensions~=3.7.4 in d:\\innomatics research labs\\vaibhav saran\\irl_class\\lib\\site-packages (from tensorflow==2.5.0) (3.7.4.3)\n",
      "Requirement already satisfied: flatbuffers~=1.12.0 in d:\\innomatics research labs\\vaibhav saran\\irl_class\\lib\\site-packages (from tensorflow==2.5.0) (1.12)\n",
      "Requirement already satisfied: tensorboard~=2.5 in d:\\innomatics research labs\\vaibhav saran\\irl_class\\lib\\site-packages (from tensorflow==2.5.0) (2.11.2)\n",
      "Requirement already satisfied: astunparse~=1.6.3 in d:\\innomatics research labs\\vaibhav saran\\irl_class\\lib\\site-packages (from tensorflow==2.5.0) (1.6.3)\n",
      "Requirement already satisfied: keras-nightly~=2.5.0.dev in d:\\innomatics research labs\\vaibhav saran\\irl_class\\lib\\site-packages (from tensorflow==2.5.0) (2.5.0.dev2021032900)\n",
      "Requirement already satisfied: setuptools>=41.0.0 in d:\\innomatics research labs\\vaibhav saran\\irl_class\\lib\\site-packages (from tensorboard~=2.5->tensorflow==2.5.0) (56.0.0)\n",
      "Requirement already satisfied: google-auth<3,>=1.6.3 in d:\\innomatics research labs\\vaibhav saran\\irl_class\\lib\\site-packages (from tensorboard~=2.5->tensorflow==2.5.0) (2.16.0)\n",
      "Requirement already satisfied: werkzeug>=1.0.1 in d:\\innomatics research labs\\vaibhav saran\\irl_class\\lib\\site-packages (from tensorboard~=2.5->tensorflow==2.5.0) (2.2.2)\n",
      "Requirement already satisfied: google-auth-oauthlib<0.5,>=0.4.1 in d:\\innomatics research labs\\vaibhav saran\\irl_class\\lib\\site-packages (from tensorboard~=2.5->tensorflow==2.5.0) (0.4.6)\n",
      "Requirement already satisfied: tensorboard-data-server<0.7.0,>=0.6.0 in d:\\innomatics research labs\\vaibhav saran\\irl_class\\lib\\site-packages (from tensorboard~=2.5->tensorflow==2.5.0) (0.6.1)\n",
      "Requirement already satisfied: tensorboard-plugin-wit>=1.6.0 in d:\\innomatics research labs\\vaibhav saran\\irl_class\\lib\\site-packages (from tensorboard~=2.5->tensorflow==2.5.0) (1.8.1)\n",
      "Requirement already satisfied: markdown>=2.6.8 in d:\\innomatics research labs\\vaibhav saran\\irl_class\\lib\\site-packages (from tensorboard~=2.5->tensorflow==2.5.0) (3.4.1)\n",
      "Requirement already satisfied: requests<3,>=2.21.0 in d:\\innomatics research labs\\vaibhav saran\\irl_class\\lib\\site-packages (from tensorboard~=2.5->tensorflow==2.5.0) (2.28.2)\n",
      "Requirement already satisfied: cachetools<6.0,>=2.0.0 in d:\\innomatics research labs\\vaibhav saran\\irl_class\\lib\\site-packages (from google-auth<3,>=1.6.3->tensorboard~=2.5->tensorflow==2.5.0) (5.3.0)\n",
      "Requirement already satisfied: rsa<5,>=3.1.4 in d:\\innomatics research labs\\vaibhav saran\\irl_class\\lib\\site-packages (from google-auth<3,>=1.6.3->tensorboard~=2.5->tensorflow==2.5.0) (4.9)\n",
      "Requirement already satisfied: pyasn1-modules>=0.2.1 in d:\\innomatics research labs\\vaibhav saran\\irl_class\\lib\\site-packages (from google-auth<3,>=1.6.3->tensorboard~=2.5->tensorflow==2.5.0) (0.2.8)\n",
      "Requirement already satisfied: requests-oauthlib>=0.7.0 in d:\\innomatics research labs\\vaibhav saran\\irl_class\\lib\\site-packages (from google-auth-oauthlib<0.5,>=0.4.1->tensorboard~=2.5->tensorflow==2.5.0) (1.3.1)\n",
      "Requirement already satisfied: importlib-metadata>=4.4 in d:\\innomatics research labs\\vaibhav saran\\irl_class\\lib\\site-packages (from markdown>=2.6.8->tensorboard~=2.5->tensorflow==2.5.0) (6.0.0)\n",
      "Requirement already satisfied: certifi>=2017.4.17 in d:\\innomatics research labs\\vaibhav saran\\irl_class\\lib\\site-packages (from requests<3,>=2.21.0->tensorboard~=2.5->tensorflow==2.5.0) (2022.12.7)\n",
      "Requirement already satisfied: idna<4,>=2.5 in d:\\innomatics research labs\\vaibhav saran\\irl_class\\lib\\site-packages (from requests<3,>=2.21.0->tensorboard~=2.5->tensorflow==2.5.0) (3.4)\n",
      "Requirement already satisfied: charset-normalizer<4,>=2 in d:\\innomatics research labs\\vaibhav saran\\irl_class\\lib\\site-packages (from requests<3,>=2.21.0->tensorboard~=2.5->tensorflow==2.5.0) (3.0.1)\n",
      "Requirement already satisfied: urllib3<1.27,>=1.21.1 in d:\\innomatics research labs\\vaibhav saran\\irl_class\\lib\\site-packages (from requests<3,>=2.21.0->tensorboard~=2.5->tensorflow==2.5.0) (1.26.14)\n",
      "Requirement already satisfied: MarkupSafe>=2.1.1 in d:\\innomatics research labs\\vaibhav saran\\irl_class\\lib\\site-packages (from werkzeug>=1.0.1->tensorboard~=2.5->tensorflow==2.5.0) (2.1.2)\n",
      "Requirement already satisfied: zipp>=0.5 in d:\\innomatics research labs\\vaibhav saran\\irl_class\\lib\\site-packages (from importlib-metadata>=4.4->markdown>=2.6.8->tensorboard~=2.5->tensorflow==2.5.0) (3.12.0)\n",
      "Requirement already satisfied: pyasn1<0.5.0,>=0.4.6 in d:\\innomatics research labs\\vaibhav saran\\irl_class\\lib\\site-packages (from pyasn1-modules>=0.2.1->google-auth<3,>=1.6.3->tensorboard~=2.5->tensorflow==2.5.0) (0.4.8)\n",
      "Requirement already satisfied: oauthlib>=3.0.0 in d:\\innomatics research labs\\vaibhav saran\\irl_class\\lib\\site-packages (from requests-oauthlib>=0.7.0->google-auth-oauthlib<0.5,>=0.4.1->tensorboard~=2.5->tensorflow==2.5.0) (3.2.2)\n"
     ]
    }
   ],
   "source": [
    "!pip install tensorflow==2.5.0"
   ]
  },
  {
   "cell_type": "code",
   "execution_count": 29,
   "id": "9d88fe50-26fe-466f-bdbb-e9145c07f014",
   "metadata": {
    "collapsed": true,
    "jupyter": {
     "outputs_hidden": true
    },
    "tags": []
   },
   "outputs": [
    {
     "name": "stdout",
     "output_type": "stream",
     "text": [
      "Requirement already satisfied: tensorflow-gpu==2.5.0 in d:\\innomatics research labs\\vaibhav saran\\irl_class\\lib\\site-packages (2.5.0)\n",
      "Requirement already satisfied: grpcio~=1.34.0 in d:\\innomatics research labs\\vaibhav saran\\irl_class\\lib\\site-packages (from tensorflow-gpu==2.5.0) (1.34.1)\n",
      "Requirement already satisfied: six~=1.15.0 in d:\\innomatics research labs\\vaibhav saran\\irl_class\\lib\\site-packages (from tensorflow-gpu==2.5.0) (1.15.0)\n",
      "Requirement already satisfied: astunparse~=1.6.3 in d:\\innomatics research labs\\vaibhav saran\\irl_class\\lib\\site-packages (from tensorflow-gpu==2.5.0) (1.6.3)\n",
      "Requirement already satisfied: wheel~=0.35 in d:\\innomatics research labs\\vaibhav saran\\irl_class\\lib\\site-packages (from tensorflow-gpu==2.5.0) (0.36.2)\n",
      "Requirement already satisfied: gast==0.4.0 in d:\\innomatics research labs\\vaibhav saran\\irl_class\\lib\\site-packages (from tensorflow-gpu==2.5.0) (0.4.0)\n",
      "Requirement already satisfied: typing-extensions~=3.7.4 in d:\\innomatics research labs\\vaibhav saran\\irl_class\\lib\\site-packages (from tensorflow-gpu==2.5.0) (3.7.4.3)\n",
      "Requirement already satisfied: tensorboard~=2.5 in d:\\innomatics research labs\\vaibhav saran\\irl_class\\lib\\site-packages (from tensorflow-gpu==2.5.0) (2.11.2)\n",
      "Requirement already satisfied: termcolor~=1.1.0 in d:\\innomatics research labs\\vaibhav saran\\irl_class\\lib\\site-packages (from tensorflow-gpu==2.5.0) (1.1.0)\n",
      "Requirement already satisfied: tensorflow-estimator<2.6.0,>=2.5.0rc0 in d:\\innomatics research labs\\vaibhav saran\\irl_class\\lib\\site-packages (from tensorflow-gpu==2.5.0) (2.5.0)\n",
      "Requirement already satisfied: numpy~=1.19.2 in d:\\innomatics research labs\\vaibhav saran\\irl_class\\lib\\site-packages (from tensorflow-gpu==2.5.0) (1.19.5)\n",
      "Requirement already satisfied: h5py~=3.1.0 in d:\\innomatics research labs\\vaibhav saran\\irl_class\\lib\\site-packages (from tensorflow-gpu==2.5.0) (3.1.0)\n",
      "Requirement already satisfied: wrapt~=1.12.1 in d:\\innomatics research labs\\vaibhav saran\\irl_class\\lib\\site-packages (from tensorflow-gpu==2.5.0) (1.12.1)\n",
      "Requirement already satisfied: protobuf>=3.9.2 in d:\\innomatics research labs\\vaibhav saran\\irl_class\\lib\\site-packages (from tensorflow-gpu==2.5.0) (3.19.6)\n",
      "Requirement already satisfied: absl-py~=0.10 in d:\\innomatics research labs\\vaibhav saran\\irl_class\\lib\\site-packages (from tensorflow-gpu==2.5.0) (0.15.0)\n",
      "Requirement already satisfied: opt-einsum~=3.3.0 in d:\\innomatics research labs\\vaibhav saran\\irl_class\\lib\\site-packages (from tensorflow-gpu==2.5.0) (3.3.0)\n",
      "Requirement already satisfied: flatbuffers~=1.12.0 in d:\\innomatics research labs\\vaibhav saran\\irl_class\\lib\\site-packages (from tensorflow-gpu==2.5.0) (1.12)\n",
      "Requirement already satisfied: google-pasta~=0.2 in d:\\innomatics research labs\\vaibhav saran\\irl_class\\lib\\site-packages (from tensorflow-gpu==2.5.0) (0.2.0)\n",
      "Requirement already satisfied: keras-nightly~=2.5.0.dev in d:\\innomatics research labs\\vaibhav saran\\irl_class\\lib\\site-packages (from tensorflow-gpu==2.5.0) (2.5.0.dev2021032900)\n",
      "Requirement already satisfied: keras-preprocessing~=1.1.2 in d:\\innomatics research labs\\vaibhav saran\\irl_class\\lib\\site-packages (from tensorflow-gpu==2.5.0) (1.1.2)\n",
      "Requirement already satisfied: tensorboard-plugin-wit>=1.6.0 in d:\\innomatics research labs\\vaibhav saran\\irl_class\\lib\\site-packages (from tensorboard~=2.5->tensorflow-gpu==2.5.0) (1.8.1)\n",
      "Requirement already satisfied: google-auth-oauthlib<0.5,>=0.4.1 in d:\\innomatics research labs\\vaibhav saran\\irl_class\\lib\\site-packages (from tensorboard~=2.5->tensorflow-gpu==2.5.0) (0.4.6)\n",
      "Requirement already satisfied: google-auth<3,>=1.6.3 in d:\\innomatics research labs\\vaibhav saran\\irl_class\\lib\\site-packages (from tensorboard~=2.5->tensorflow-gpu==2.5.0) (2.16.0)\n",
      "Requirement already satisfied: requests<3,>=2.21.0 in d:\\innomatics research labs\\vaibhav saran\\irl_class\\lib\\site-packages (from tensorboard~=2.5->tensorflow-gpu==2.5.0) (2.28.2)\n",
      "Requirement already satisfied: werkzeug>=1.0.1 in d:\\innomatics research labs\\vaibhav saran\\irl_class\\lib\\site-packages (from tensorboard~=2.5->tensorflow-gpu==2.5.0) (2.2.2)\n",
      "Requirement already satisfied: setuptools>=41.0.0 in d:\\innomatics research labs\\vaibhav saran\\irl_class\\lib\\site-packages (from tensorboard~=2.5->tensorflow-gpu==2.5.0) (56.0.0)\n",
      "Requirement already satisfied: markdown>=2.6.8 in d:\\innomatics research labs\\vaibhav saran\\irl_class\\lib\\site-packages (from tensorboard~=2.5->tensorflow-gpu==2.5.0) (3.4.1)\n",
      "Requirement already satisfied: tensorboard-data-server<0.7.0,>=0.6.0 in d:\\innomatics research labs\\vaibhav saran\\irl_class\\lib\\site-packages (from tensorboard~=2.5->tensorflow-gpu==2.5.0) (0.6.1)\n",
      "Requirement already satisfied: cachetools<6.0,>=2.0.0 in d:\\innomatics research labs\\vaibhav saran\\irl_class\\lib\\site-packages (from google-auth<3,>=1.6.3->tensorboard~=2.5->tensorflow-gpu==2.5.0) (5.3.0)\n",
      "Requirement already satisfied: pyasn1-modules>=0.2.1 in d:\\innomatics research labs\\vaibhav saran\\irl_class\\lib\\site-packages (from google-auth<3,>=1.6.3->tensorboard~=2.5->tensorflow-gpu==2.5.0) (0.2.8)\n",
      "Requirement already satisfied: rsa<5,>=3.1.4 in d:\\innomatics research labs\\vaibhav saran\\irl_class\\lib\\site-packages (from google-auth<3,>=1.6.3->tensorboard~=2.5->tensorflow-gpu==2.5.0) (4.9)\n",
      "Requirement already satisfied: requests-oauthlib>=0.7.0 in d:\\innomatics research labs\\vaibhav saran\\irl_class\\lib\\site-packages (from google-auth-oauthlib<0.5,>=0.4.1->tensorboard~=2.5->tensorflow-gpu==2.5.0) (1.3.1)\n",
      "Requirement already satisfied: importlib-metadata>=4.4 in d:\\innomatics research labs\\vaibhav saran\\irl_class\\lib\\site-packages (from markdown>=2.6.8->tensorboard~=2.5->tensorflow-gpu==2.5.0) (6.0.0)\n",
      "Requirement already satisfied: charset-normalizer<4,>=2 in d:\\innomatics research labs\\vaibhav saran\\irl_class\\lib\\site-packages (from requests<3,>=2.21.0->tensorboard~=2.5->tensorflow-gpu==2.5.0) (3.0.1)\n",
      "Requirement already satisfied: urllib3<1.27,>=1.21.1 in d:\\innomatics research labs\\vaibhav saran\\irl_class\\lib\\site-packages (from requests<3,>=2.21.0->tensorboard~=2.5->tensorflow-gpu==2.5.0) (1.26.14)\n",
      "Requirement already satisfied: certifi>=2017.4.17 in d:\\innomatics research labs\\vaibhav saran\\irl_class\\lib\\site-packages (from requests<3,>=2.21.0->tensorboard~=2.5->tensorflow-gpu==2.5.0) (2022.12.7)\n",
      "Requirement already satisfied: idna<4,>=2.5 in d:\\innomatics research labs\\vaibhav saran\\irl_class\\lib\\site-packages (from requests<3,>=2.21.0->tensorboard~=2.5->tensorflow-gpu==2.5.0) (3.4)\n",
      "Requirement already satisfied: MarkupSafe>=2.1.1 in d:\\innomatics research labs\\vaibhav saran\\irl_class\\lib\\site-packages (from werkzeug>=1.0.1->tensorboard~=2.5->tensorflow-gpu==2.5.0) (2.1.2)\n",
      "Requirement already satisfied: zipp>=0.5 in d:\\innomatics research labs\\vaibhav saran\\irl_class\\lib\\site-packages (from importlib-metadata>=4.4->markdown>=2.6.8->tensorboard~=2.5->tensorflow-gpu==2.5.0) (3.12.0)\n",
      "Requirement already satisfied: pyasn1<0.5.0,>=0.4.6 in d:\\innomatics research labs\\vaibhav saran\\irl_class\\lib\\site-packages (from pyasn1-modules>=0.2.1->google-auth<3,>=1.6.3->tensorboard~=2.5->tensorflow-gpu==2.5.0) (0.4.8)\n",
      "Requirement already satisfied: oauthlib>=3.0.0 in d:\\innomatics research labs\\vaibhav saran\\irl_class\\lib\\site-packages (from requests-oauthlib>=0.7.0->google-auth-oauthlib<0.5,>=0.4.1->tensorboard~=2.5->tensorflow-gpu==2.5.0) (3.2.2)\n"
     ]
    }
   ],
   "source": [
    "!pip install tensorflow-gpu==2.5.0"
   ]
  },
  {
   "cell_type": "code",
   "execution_count": 30,
   "id": "be819e62-673c-421a-a705-a30773c182b5",
   "metadata": {
    "collapsed": true,
    "jupyter": {
     "outputs_hidden": true
    },
    "tags": []
   },
   "outputs": [
    {
     "name": "stdout",
     "output_type": "stream",
     "text": [
      "Collecting Pillow==8.3.1\n",
      "  Downloading Pillow-8.3.1-1-cp38-cp38-win_amd64.whl (3.2 MB)\n",
      "     ---------------------------------------- 3.2/3.2 MB 25.6 MB/s eta 0:00:00\n",
      "Installing collected packages: Pillow\n",
      "  Attempting uninstall: Pillow\n",
      "    Found existing installation: Pillow 9.4.0\n",
      "    Uninstalling Pillow-9.4.0:\n",
      "      Successfully uninstalled Pillow-9.4.0\n",
      "Successfully installed Pillow-8.3.1\n"
     ]
    }
   ],
   "source": [
    "!pip install Pillow==8.3.1"
   ]
  },
  {
   "cell_type": "code",
   "execution_count": 34,
   "id": "227d32d4-568a-4e19-b135-259b6d99a769",
   "metadata": {
    "collapsed": true,
    "jupyter": {
     "outputs_hidden": true
    },
    "tags": []
   },
   "outputs": [
    {
     "name": "stdout",
     "output_type": "stream",
     "text": [
      "Collecting protobuf==3.17.3\n",
      "  Using cached protobuf-3.17.3-cp38-cp38-win_amd64.whl (909 kB)\n",
      "Requirement already satisfied: six>=1.9 in d:\\innomatics research labs\\vaibhav saran\\irl_class\\lib\\site-packages (from protobuf==3.17.3) (1.15.0)\n",
      "Installing collected packages: protobuf\n",
      "Successfully installed protobuf-3.17.3\n"
     ]
    },
    {
     "name": "stderr",
     "output_type": "stream",
     "text": [
      "WARNING: Ignoring invalid distribution -rotobuf (d:\\innomatics research labs\\vaibhav saran\\irl_class\\lib\\site-packages)\n",
      "WARNING: Ignoring invalid distribution -rotobuf (d:\\innomatics research labs\\vaibhav saran\\irl_class\\lib\\site-packages)\n",
      "WARNING: Ignoring invalid distribution -rotobuf (d:\\innomatics research labs\\vaibhav saran\\irl_class\\lib\\site-packages)\n",
      "WARNING: Ignoring invalid distribution -rotobuf (d:\\innomatics research labs\\vaibhav saran\\irl_class\\lib\\site-packages)\n",
      "ERROR: pip's dependency resolver does not currently take into account all the packages that are installed. This behaviour is the source of the following dependency conflicts.\n",
      "tensorflow-intel 2.11.0 requires absl-py>=1.0.0, but you have absl-py 0.15.0 which is incompatible.\n",
      "tensorflow-intel 2.11.0 requires flatbuffers>=2.0, but you have flatbuffers 1.12 which is incompatible.\n",
      "tensorflow-intel 2.11.0 requires keras<2.12,>=2.11.0, but you have keras 2.4.3 which is incompatible.\n",
      "tensorflow-intel 2.11.0 requires numpy>=1.20, but you have numpy 1.19.5 which is incompatible.\n",
      "tensorflow-intel 2.11.0 requires tensorflow-estimator<2.12,>=2.11.0, but you have tensorflow-estimator 2.5.0 which is incompatible.\n",
      "WARNING: Ignoring invalid distribution -rotobuf (d:\\innomatics research labs\\vaibhav saran\\irl_class\\lib\\site-packages)\n",
      "WARNING: Ignoring invalid distribution -rotobuf (d:\\innomatics research labs\\vaibhav saran\\irl_class\\lib\\site-packages)\n",
      "WARNING: Ignoring invalid distribution -rotobuf (d:\\innomatics research labs\\vaibhav saran\\irl_class\\lib\\site-packages)\n"
     ]
    }
   ],
   "source": [
    "!pip install protobuf==3.17.3"
   ]
  },
  {
   "cell_type": "code",
   "execution_count": 33,
   "id": "4e80bc80-1729-4a73-a4c4-c2e9669c3db6",
   "metadata": {
    "collapsed": true,
    "jupyter": {
     "outputs_hidden": true
    },
    "tags": []
   },
   "outputs": [
    {
     "name": "stdout",
     "output_type": "stream",
     "text": [
      "Found existing installation: protobuf 3.17.3\n",
      "Uninstalling protobuf-3.17.3:\n",
      "  Successfully uninstalled protobuf-3.17.3\n"
     ]
    },
    {
     "name": "stderr",
     "output_type": "stream",
     "text": [
      "ERROR: Exception:\n",
      "Traceback (most recent call last):\n",
      "  File \"d:\\innomatics research labs\\vaibhav saran\\irl_class\\lib\\site-packages\\pip\\_internal\\cli\\base_command.py\", line 160, in exc_logging_wrapper\n",
      "    status = run_func(*args)\n",
      "  File \"d:\\innomatics research labs\\vaibhav saran\\irl_class\\lib\\site-packages\\pip\\_internal\\commands\\uninstall.py\", line 103, in run\n",
      "    uninstall_pathset.commit()\n",
      "  File \"d:\\innomatics research labs\\vaibhav saran\\irl_class\\lib\\site-packages\\pip\\_internal\\req\\req_uninstall.py\", line 424, in commit\n",
      "    self._moved_paths.commit()\n",
      "  File \"d:\\innomatics research labs\\vaibhav saran\\irl_class\\lib\\site-packages\\pip\\_internal\\req\\req_uninstall.py\", line 277, in commit\n",
      "    save_dir.cleanup()\n",
      "  File \"d:\\innomatics research labs\\vaibhav saran\\irl_class\\lib\\site-packages\\pip\\_internal\\utils\\temp_dir.py\", line 173, in cleanup\n",
      "    rmtree(self._path)\n",
      "  File \"d:\\innomatics research labs\\vaibhav saran\\irl_class\\lib\\site-packages\\pip\\_vendor\\tenacity\\__init__.py\", line 328, in wrapped_f\n",
      "    return self(f, *args, **kw)\n",
      "  File \"d:\\innomatics research labs\\vaibhav saran\\irl_class\\lib\\site-packages\\pip\\_vendor\\tenacity\\__init__.py\", line 408, in __call__\n",
      "    do = self.iter(retry_state=retry_state)\n",
      "  File \"d:\\innomatics research labs\\vaibhav saran\\irl_class\\lib\\site-packages\\pip\\_vendor\\tenacity\\__init__.py\", line 364, in iter\n",
      "    raise retry_exc.reraise()\n",
      "  File \"d:\\innomatics research labs\\vaibhav saran\\irl_class\\lib\\site-packages\\pip\\_vendor\\tenacity\\__init__.py\", line 197, in reraise\n",
      "    raise self.last_attempt.result()\n",
      "  File \"C:\\python\\lib\\concurrent\\futures\\_base.py\", line 437, in result\n",
      "    return self.__get_result()\n",
      "  File \"C:\\python\\lib\\concurrent\\futures\\_base.py\", line 389, in __get_result\n",
      "    raise self._exception\n",
      "  File \"d:\\innomatics research labs\\vaibhav saran\\irl_class\\lib\\site-packages\\pip\\_vendor\\tenacity\\__init__.py\", line 411, in __call__\n",
      "    result = fn(*args, **kwargs)\n",
      "  File \"d:\\innomatics research labs\\vaibhav saran\\irl_class\\lib\\site-packages\\pip\\_internal\\utils\\misc.py\", line 128, in rmtree\n",
      "    shutil.rmtree(dir, ignore_errors=ignore_errors, onerror=rmtree_errorhandler)\n",
      "  File \"C:\\python\\lib\\shutil.py\", line 740, in rmtree\n",
      "    return _rmtree_unsafe(path, onerror)\n",
      "  File \"C:\\python\\lib\\shutil.py\", line 613, in _rmtree_unsafe\n",
      "    _rmtree_unsafe(fullname, onerror)\n",
      "  File \"C:\\python\\lib\\shutil.py\", line 618, in _rmtree_unsafe\n",
      "    onerror(os.unlink, fullname, sys.exc_info())\n",
      "  File \"C:\\python\\lib\\shutil.py\", line 616, in _rmtree_unsafe\n",
      "    os.unlink(fullname)\n",
      "PermissionError: [WinError 5] Access is denied: 'D:\\\\Innomatics Research Labs\\\\Vaibhav Saran\\\\IRL_class\\\\Lib\\\\site-packages\\\\google\\\\~rotobuf\\\\internal\\\\_api_implementation.cp38-win_amd64.pyd'\n"
     ]
    }
   ],
   "source": [
    "!pip uninstall protobuf matplotlib -y"
   ]
  },
  {
   "cell_type": "code",
   "execution_count": 35,
   "id": "d5c091a2-14a8-4cfc-b3a8-88db6c57e40b",
   "metadata": {
    "collapsed": true,
    "jupyter": {
     "outputs_hidden": true
    },
    "tags": []
   },
   "outputs": [
    {
     "name": "stdout",
     "output_type": "stream",
     "text": [
      "Requirement already satisfied: protobuf in d:\\innomatics research labs\\vaibhav saran\\irl_class\\lib\\site-packages (3.17.3)\n",
      "Requirement already satisfied: matplotlib==3.2 in d:\\innomatics research labs\\vaibhav saran\\irl_class\\lib\\site-packages (3.2.0)\n",
      "Requirement already satisfied: cycler>=0.10 in d:\\innomatics research labs\\vaibhav saran\\irl_class\\lib\\site-packages (from matplotlib==3.2) (0.11.0)\n",
      "Requirement already satisfied: python-dateutil>=2.1 in d:\\innomatics research labs\\vaibhav saran\\irl_class\\lib\\site-packages (from matplotlib==3.2) (2.8.2)\n",
      "Requirement already satisfied: pyparsing!=2.0.4,!=2.1.2,!=2.1.6,>=2.0.1 in d:\\innomatics research labs\\vaibhav saran\\irl_class\\lib\\site-packages (from matplotlib==3.2) (3.0.9)\n",
      "Requirement already satisfied: numpy>=1.11 in d:\\innomatics research labs\\vaibhav saran\\irl_class\\lib\\site-packages (from matplotlib==3.2) (1.19.5)\n",
      "Requirement already satisfied: kiwisolver>=1.0.1 in d:\\innomatics research labs\\vaibhav saran\\irl_class\\lib\\site-packages (from matplotlib==3.2) (1.4.4)\n",
      "Requirement already satisfied: six>=1.9 in d:\\innomatics research labs\\vaibhav saran\\irl_class\\lib\\site-packages (from protobuf) (1.15.0)\n"
     ]
    },
    {
     "name": "stderr",
     "output_type": "stream",
     "text": [
      "WARNING: Ignoring invalid distribution -rotobuf (d:\\innomatics research labs\\vaibhav saran\\irl_class\\lib\\site-packages)\n",
      "WARNING: Ignoring invalid distribution -rotobuf (d:\\innomatics research labs\\vaibhav saran\\irl_class\\lib\\site-packages)\n",
      "WARNING: Ignoring invalid distribution -rotobuf (d:\\innomatics research labs\\vaibhav saran\\irl_class\\lib\\site-packages)\n",
      "WARNING: Ignoring invalid distribution -rotobuf (d:\\innomatics research labs\\vaibhav saran\\irl_class\\lib\\site-packages)\n",
      "WARNING: Ignoring invalid distribution -rotobuf (d:\\innomatics research labs\\vaibhav saran\\irl_class\\lib\\site-packages)\n",
      "WARNING: Ignoring invalid distribution -rotobuf (d:\\innomatics research labs\\vaibhav saran\\irl_class\\lib\\site-packages)\n"
     ]
    }
   ],
   "source": [
    "!pip install protobuf matplotlib==3.2"
   ]
  },
  {
   "cell_type": "code",
   "execution_count": 36,
   "id": "4f0dd277-f6ff-420f-9d9e-df82ca51e22c",
   "metadata": {
    "collapsed": true,
    "jupyter": {
     "outputs_hidden": true
    },
    "tags": []
   },
   "outputs": [
    {
     "name": "stdout",
     "output_type": "stream",
     "text": [
      "Collecting pyyaml==5.4.1\n",
      "  Downloading PyYAML-5.4.1-cp38-cp38-win_amd64.whl (213 kB)\n",
      "     -------------------------------------- 213.6/213.6 kB 6.6 MB/s eta 0:00:00\n",
      "Installing collected packages: pyyaml\n",
      "  Attempting uninstall: pyyaml\n",
      "    Found existing installation: PyYAML 6.0\n",
      "    Uninstalling PyYAML-6.0:\n",
      "      Successfully uninstalled PyYAML-6.0\n"
     ]
    },
    {
     "name": "stderr",
     "output_type": "stream",
     "text": [
      "WARNING: Ignoring invalid distribution -rotobuf (d:\\innomatics research labs\\vaibhav saran\\irl_class\\lib\\site-packages)\n",
      "WARNING: Ignoring invalid distribution -rotobuf (d:\\innomatics research labs\\vaibhav saran\\irl_class\\lib\\site-packages)\n",
      "WARNING: Ignoring invalid distribution -rotobuf (d:\\innomatics research labs\\vaibhav saran\\irl_class\\lib\\site-packages)\n",
      "    WARNING: Ignoring invalid distribution -rotobuf (d:\\innomatics research labs\\vaibhav saran\\irl_class\\lib\\site-packages)\n",
      "ERROR: Could not install packages due to an OSError: [WinError 5] Access is denied: 'D:\\\\Innomatics Research Labs\\\\Vaibhav Saran\\\\IRL_class\\\\Lib\\\\site-packages\\\\~aml\\\\_yaml.cp38-win_amd64.pyd'\n",
      "Check the permissions.\n",
      "\n",
      "WARNING: Ignoring invalid distribution -rotobuf (d:\\innomatics research labs\\vaibhav saran\\irl_class\\lib\\site-packages)\n",
      "WARNING: Ignoring invalid distribution -rotobuf (d:\\innomatics research labs\\vaibhav saran\\irl_class\\lib\\site-packages)\n",
      "WARNING: Ignoring invalid distribution -rotobuf (d:\\innomatics research labs\\vaibhav saran\\irl_class\\lib\\site-packages)\n"
     ]
    }
   ],
   "source": [
    "!pip install pyyaml==5.4.1"
   ]
  },
  {
   "cell_type": "code",
   "execution_count": 37,
   "id": "03a60502-3e68-4d2d-b114-1fa32de91380",
   "metadata": {
    "collapsed": true,
    "jupyter": {
     "outputs_hidden": true
    },
    "tags": []
   },
   "outputs": [
    {
     "name": "stdout",
     "output_type": "stream",
     "text": [
      "Collecting pytz==2021.1\n",
      "  Downloading pytz-2021.1-py2.py3-none-any.whl (510 kB)\n",
      "     ------------------------------------- 510.8/510.8 kB 10.6 MB/s eta 0:00:00\n",
      "Installing collected packages: pytz\n",
      "  Attempting uninstall: pytz\n",
      "    Found existing installation: pytz 2022.7.1\n",
      "    Uninstalling pytz-2022.7.1:\n",
      "      Successfully uninstalled pytz-2022.7.1\n",
      "Successfully installed pytz-2021.1\n"
     ]
    },
    {
     "name": "stderr",
     "output_type": "stream",
     "text": [
      "WARNING: Ignoring invalid distribution -rotobuf (d:\\innomatics research labs\\vaibhav saran\\irl_class\\lib\\site-packages)\n",
      "WARNING: Ignoring invalid distribution -rotobuf (d:\\innomatics research labs\\vaibhav saran\\irl_class\\lib\\site-packages)\n",
      "WARNING: Ignoring invalid distribution -rotobuf (d:\\innomatics research labs\\vaibhav saran\\irl_class\\lib\\site-packages)\n",
      "    WARNING: Ignoring invalid distribution -rotobuf (d:\\innomatics research labs\\vaibhav saran\\irl_class\\lib\\site-packages)\n",
      "WARNING: Ignoring invalid distribution -rotobuf (d:\\innomatics research labs\\vaibhav saran\\irl_class\\lib\\site-packages)\n",
      "WARNING: Ignoring invalid distribution -rotobuf (d:\\innomatics research labs\\vaibhav saran\\irl_class\\lib\\site-packages)\n",
      "WARNING: Ignoring invalid distribution -rotobuf (d:\\innomatics research labs\\vaibhav saran\\irl_class\\lib\\site-packages)\n",
      "WARNING: Ignoring invalid distribution -rotobuf (d:\\innomatics research labs\\vaibhav saran\\irl_class\\lib\\site-packages)\n"
     ]
    }
   ],
   "source": [
    "!pip install pytz==2021.1"
   ]
  },
  {
   "cell_type": "code",
   "execution_count": 38,
   "id": "5f95b82b-ae32-4ad6-b013-f3b3754b68f2",
   "metadata": {
    "collapsed": true,
    "jupyter": {
     "outputs_hidden": true
    },
    "tags": []
   },
   "outputs": [
    {
     "name": "stdout",
     "output_type": "stream",
     "text": [
      "Found existing installation: pycocotools 2.0.6\n",
      "Uninstalling pycocotools-2.0.6:\n",
      "  Successfully uninstalled pycocotools-2.0.6\n"
     ]
    },
    {
     "name": "stderr",
     "output_type": "stream",
     "text": [
      "WARNING: Ignoring invalid distribution -rotobuf (d:\\innomatics research labs\\vaibhav saran\\irl_class\\lib\\site-packages)\n",
      "WARNING: Ignoring invalid distribution -rotobuf (d:\\innomatics research labs\\vaibhav saran\\irl_class\\lib\\site-packages)\n"
     ]
    },
    {
     "name": "stdout",
     "output_type": "stream",
     "text": [
      "Collecting pycocotools==2.0.2\n",
      "  Downloading pycocotools-2.0.2.tar.gz (23 kB)\n",
      "  Preparing metadata (setup.py): started\n",
      "  Preparing metadata (setup.py): finished with status 'done'\n",
      "Requirement already satisfied: setuptools>=18.0 in d:\\innomatics research labs\\vaibhav saran\\irl_class\\lib\\site-packages (from pycocotools==2.0.2) (56.0.0)\n",
      "Collecting cython>=0.27.3\n",
      "  Using cached Cython-0.29.33-py2.py3-none-any.whl (987 kB)\n",
      "Requirement already satisfied: matplotlib>=2.1.0 in d:\\innomatics research labs\\vaibhav saran\\irl_class\\lib\\site-packages (from pycocotools==2.0.2) (3.2.0)\n",
      "Requirement already satisfied: python-dateutil>=2.1 in d:\\innomatics research labs\\vaibhav saran\\irl_class\\lib\\site-packages (from matplotlib>=2.1.0->pycocotools==2.0.2) (2.8.2)\n",
      "Requirement already satisfied: cycler>=0.10 in d:\\innomatics research labs\\vaibhav saran\\irl_class\\lib\\site-packages (from matplotlib>=2.1.0->pycocotools==2.0.2) (0.11.0)\n",
      "Requirement already satisfied: numpy>=1.11 in d:\\innomatics research labs\\vaibhav saran\\irl_class\\lib\\site-packages (from matplotlib>=2.1.0->pycocotools==2.0.2) (1.19.5)\n",
      "Requirement already satisfied: kiwisolver>=1.0.1 in d:\\innomatics research labs\\vaibhav saran\\irl_class\\lib\\site-packages (from matplotlib>=2.1.0->pycocotools==2.0.2) (1.4.4)\n",
      "Requirement already satisfied: pyparsing!=2.0.4,!=2.1.2,!=2.1.6,>=2.0.1 in d:\\innomatics research labs\\vaibhav saran\\irl_class\\lib\\site-packages (from matplotlib>=2.1.0->pycocotools==2.0.2) (3.0.9)\n",
      "Requirement already satisfied: six>=1.5 in d:\\innomatics research labs\\vaibhav saran\\irl_class\\lib\\site-packages (from python-dateutil>=2.1->matplotlib>=2.1.0->pycocotools==2.0.2) (1.15.0)\n",
      "Building wheels for collected packages: pycocotools\n",
      "  Building wheel for pycocotools (setup.py): started\n",
      "  Building wheel for pycocotools (setup.py): finished with status 'done'\n",
      "  Created wheel for pycocotools: filename=pycocotools-2.0.2-cp38-cp38-win_amd64.whl size=83867 sha256=66f04581e842345fec58ea34eb82e8bbca3623cf38f5a9c82c5ec9e6dbbc142c\n",
      "  Stored in directory: c:\\users\\vaibh\\appdata\\local\\pip\\cache\\wheels\\ac\\2a\\29\\2bfe9ca9a10371b658161d5a519e71c96b70166addba91f1e0\n",
      "Successfully built pycocotools\n",
      "Installing collected packages: cython, pycocotools\n",
      "Successfully installed cython-0.29.33 pycocotools-2.0.2\n"
     ]
    },
    {
     "name": "stderr",
     "output_type": "stream",
     "text": [
      "WARNING: Ignoring invalid distribution -rotobuf (d:\\innomatics research labs\\vaibhav saran\\irl_class\\lib\\site-packages)\n",
      "WARNING: Ignoring invalid distribution -rotobuf (d:\\innomatics research labs\\vaibhav saran\\irl_class\\lib\\site-packages)\n",
      "WARNING: Ignoring invalid distribution -rotobuf (d:\\innomatics research labs\\vaibhav saran\\irl_class\\lib\\site-packages)\n",
      "WARNING: Ignoring invalid distribution -rotobuf (d:\\innomatics research labs\\vaibhav saran\\irl_class\\lib\\site-packages)\n",
      "WARNING: Ignoring invalid distribution -rotobuf (d:\\innomatics research labs\\vaibhav saran\\irl_class\\lib\\site-packages)\n",
      "WARNING: Ignoring invalid distribution -rotobuf (d:\\innomatics research labs\\vaibhav saran\\irl_class\\lib\\site-packages)\n",
      "WARNING: Ignoring invalid distribution -rotobuf (d:\\innomatics research labs\\vaibhav saran\\irl_class\\lib\\site-packages)\n",
      "WARNING: Ignoring invalid distribution -rotobuf (d:\\innomatics research labs\\vaibhav saran\\irl_class\\lib\\site-packages)\n"
     ]
    }
   ],
   "source": [
    "!pip uninstall pycocotools -y\n",
    "!pip install pycocotools==2.0.2"
   ]
  },
  {
   "cell_type": "code",
   "execution_count": 39,
   "id": "e557d8a1-b14f-4064-8cdd-15eeb154359e",
   "metadata": {
    "collapsed": true,
    "jupyter": {
     "outputs_hidden": true
    },
    "tags": []
   },
   "outputs": [
    {
     "name": "stdout",
     "output_type": "stream",
     "text": [
      "Collecting typeguard==2.12.1\n",
      "  Downloading typeguard-2.12.1-py3-none-any.whl (17 kB)\n",
      "Installing collected packages: typeguard\n",
      "  Attempting uninstall: typeguard\n",
      "    Found existing installation: typeguard 2.13.3\n",
      "    Uninstalling typeguard-2.13.3:\n",
      "      Successfully uninstalled typeguard-2.13.3\n",
      "Successfully installed typeguard-2.12.1\n"
     ]
    },
    {
     "name": "stderr",
     "output_type": "stream",
     "text": [
      "WARNING: Ignoring invalid distribution -rotobuf (d:\\innomatics research labs\\vaibhav saran\\irl_class\\lib\\site-packages)\n",
      "WARNING: Ignoring invalid distribution -rotobuf (d:\\innomatics research labs\\vaibhav saran\\irl_class\\lib\\site-packages)\n",
      "WARNING: Ignoring invalid distribution -rotobuf (d:\\innomatics research labs\\vaibhav saran\\irl_class\\lib\\site-packages)\n",
      "    WARNING: Ignoring invalid distribution -rotobuf (d:\\innomatics research labs\\vaibhav saran\\irl_class\\lib\\site-packages)\n",
      "WARNING: Ignoring invalid distribution -rotobuf (d:\\innomatics research labs\\vaibhav saran\\irl_class\\lib\\site-packages)\n",
      "WARNING: Ignoring invalid distribution -rotobuf (d:\\innomatics research labs\\vaibhav saran\\irl_class\\lib\\site-packages)\n",
      "WARNING: Ignoring invalid distribution -rotobuf (d:\\innomatics research labs\\vaibhav saran\\irl_class\\lib\\site-packages)\n",
      "WARNING: Ignoring invalid distribution -rotobuf (d:\\innomatics research labs\\vaibhav saran\\irl_class\\lib\\site-packages)\n"
     ]
    }
   ],
   "source": [
    "!pip install typeguard==2.12.1"
   ]
  },
  {
   "cell_type": "code",
   "execution_count": 40,
   "id": "f3fb3470-d20b-408f-bd47-9048a75cf8a1",
   "metadata": {
    "collapsed": true,
    "jupyter": {
     "outputs_hidden": true
    },
    "tags": []
   },
   "outputs": [
    {
     "name": "stdout",
     "output_type": "stream",
     "text": [
      "Requirement already satisfied: gin-config==0.1.1 in d:\\innomatics research labs\\vaibhav saran\\irl_class\\lib\\site-packages (0.1.1)\n",
      "Requirement already satisfied: six>=1.10.0 in d:\\innomatics research labs\\vaibhav saran\\irl_class\\lib\\site-packages (from gin-config==0.1.1) (1.15.0)\n"
     ]
    },
    {
     "name": "stderr",
     "output_type": "stream",
     "text": [
      "WARNING: Ignoring invalid distribution -rotobuf (d:\\innomatics research labs\\vaibhav saran\\irl_class\\lib\\site-packages)\n",
      "WARNING: Ignoring invalid distribution -rotobuf (d:\\innomatics research labs\\vaibhav saran\\irl_class\\lib\\site-packages)\n",
      "WARNING: Ignoring invalid distribution -rotobuf (d:\\innomatics research labs\\vaibhav saran\\irl_class\\lib\\site-packages)\n",
      "WARNING: Ignoring invalid distribution -rotobuf (d:\\innomatics research labs\\vaibhav saran\\irl_class\\lib\\site-packages)\n",
      "WARNING: Ignoring invalid distribution -rotobuf (d:\\innomatics research labs\\vaibhav saran\\irl_class\\lib\\site-packages)\n",
      "WARNING: Ignoring invalid distribution -rotobuf (d:\\innomatics research labs\\vaibhav saran\\irl_class\\lib\\site-packages)\n"
     ]
    }
   ],
   "source": [
    "!pip install gin-config==0.1.1"
   ]
  },
  {
   "cell_type": "code",
   "execution_count": 41,
   "id": "aea7f2a3-df4c-4c4f-878d-51694343f135",
   "metadata": {
    "collapsed": true,
    "jupyter": {
     "outputs_hidden": true
    },
    "tags": []
   },
   "outputs": [
    {
     "name": "stdout",
     "output_type": "stream",
     "text": [
      "Collecting tf-models-official\n",
      "  Downloading tf_models_official-2.11.3-py2.py3-none-any.whl (2.3 MB)\n",
      "     ---------------------------------------- 2.3/2.3 MB 14.9 MB/s eta 0:00:00\n",
      "Requirement already satisfied: scipy>=0.19.1 in d:\\innomatics research labs\\vaibhav saran\\irl_class\\lib\\site-packages (from tf-models-official) (1.10.0)\n",
      "Collecting py-cpuinfo>=3.3.0\n",
      "  Downloading py_cpuinfo-9.0.0-py3-none-any.whl (22 kB)\n",
      "Requirement already satisfied: psutil>=5.4.3 in d:\\innomatics research labs\\vaibhav saran\\irl_class\\lib\\site-packages (from tf-models-official) (5.9.4)\n",
      "Collecting numpy>=1.20\n",
      "  Using cached numpy-1.24.1-cp38-cp38-win_amd64.whl (14.9 MB)\n",
      "Collecting immutabledict\n",
      "  Downloading immutabledict-2.2.3-py3-none-any.whl (4.0 kB)\n",
      "Collecting sentencepiece\n",
      "  Downloading sentencepiece-0.1.97-cp38-cp38-win_amd64.whl (1.1 MB)\n",
      "     ---------------------------------------- 1.1/1.1 MB 17.8 MB/s eta 0:00:00\n",
      "Requirement already satisfied: pyyaml<6.0,>=5.1 in d:\\innomatics research labs\\vaibhav saran\\irl_class\\lib\\site-packages (from tf-models-official) (5.4.1)\n",
      "Requirement already satisfied: six in d:\\innomatics research labs\\vaibhav saran\\irl_class\\lib\\site-packages (from tf-models-official) (1.15.0)\n",
      "Collecting google-api-python-client>=1.6.7\n",
      "  Downloading google_api_python_client-2.74.0-py2.py3-none-any.whl (10.9 MB)\n",
      "     --------------------------------------- 10.9/10.9 MB 13.1 MB/s eta 0:00:00\n",
      "Collecting tensorflow-model-optimization>=0.4.1\n",
      "  Downloading tensorflow_model_optimization-0.7.3-py2.py3-none-any.whl (238 kB)\n",
      "     ------------------------------------- 238.9/238.9 kB 14.3 MB/s eta 0:00:00\n",
      "Collecting sacrebleu\n",
      "  Downloading sacrebleu-2.3.1-py3-none-any.whl (118 kB)\n",
      "     -------------------------------------- 118.9/118.9 kB 7.2 MB/s eta 0:00:00\n",
      "Collecting tensorflow-hub>=0.6.0\n",
      "  Downloading tensorflow_hub-0.12.0-py2.py3-none-any.whl (108 kB)\n",
      "     ---------------------------------------- 108.8/108.8 kB ? eta 0:00:00\n",
      "Collecting tf-slim>=1.1.0\n",
      "  Downloading tf_slim-1.1.0-py2.py3-none-any.whl (352 kB)\n",
      "     ------------------------------------- 352.1/352.1 kB 11.0 MB/s eta 0:00:00\n",
      "Requirement already satisfied: gin-config in d:\\innomatics research labs\\vaibhav saran\\irl_class\\lib\\site-packages (from tf-models-official) (0.1.1)\n",
      "Requirement already satisfied: matplotlib in d:\\innomatics research labs\\vaibhav saran\\irl_class\\lib\\site-packages (from tf-models-official) (3.2.0)\n",
      "Collecting seqeval\n",
      "  Downloading seqeval-1.2.2.tar.gz (43 kB)\n",
      "     ---------------------------------------- 43.6/43.6 kB ? eta 0:00:00\n",
      "  Preparing metadata (setup.py): started\n",
      "  Preparing metadata (setup.py): finished with status 'done'\n",
      "Collecting kaggle>=1.3.9\n",
      "  Downloading kaggle-1.5.12.tar.gz (58 kB)\n",
      "     ---------------------------------------- 59.0/59.0 kB ? eta 0:00:00\n",
      "  Preparing metadata (setup.py): started\n",
      "  Preparing metadata (setup.py): finished with status 'done'\n",
      "Collecting opencv-python-headless\n",
      "  Downloading opencv_python_headless-4.7.0.68-cp37-abi3-win_amd64.whl (38.1 MB)\n",
      "     --------------------------------------- 38.1/38.1 MB 14.2 MB/s eta 0:00:00\n",
      "Collecting tf-models-official\n",
      "  Downloading tf_models_official-2.11.2-py2.py3-none-any.whl (2.3 MB)\n",
      "     ---------------------------------------- 2.3/2.3 MB 7.1 MB/s eta 0:00:00\n",
      "  Downloading tf_models_official-2.11.0-py2.py3-none-any.whl (2.3 MB)\n",
      "     ---------------------------------------- 2.3/2.3 MB 24.9 MB/s eta 0:00:00\n",
      "  Downloading tf_models_official-2.10.1-py2.py3-none-any.whl (2.2 MB)\n",
      "     ---------------------------------------- 2.2/2.2 MB 27.9 MB/s eta 0:00:00\n",
      "Collecting sacrebleu==2.2.0\n",
      "  Downloading sacrebleu-2.2.0-py3-none-any.whl (116 kB)\n",
      "     ---------------------------------------- 116.6/116.6 kB ? eta 0:00:00\n",
      "Collecting tensorflow-text~=2.10.0\n",
      "  Downloading tensorflow_text-2.10.0-cp38-cp38-win_amd64.whl (5.0 MB)\n",
      "     ---------------------------------------- 5.0/5.0 MB 4.5 MB/s eta 0:00:00\n",
      "Requirement already satisfied: pandas>=0.22.0 in d:\\innomatics research labs\\vaibhav saran\\irl_class\\lib\\site-packages (from tf-models-official) (1.3.0)\n",
      "Requirement already satisfied: Cython in d:\\innomatics research labs\\vaibhav saran\\irl_class\\lib\\site-packages (from tf-models-official) (0.29.33)\n",
      "Requirement already satisfied: Pillow in d:\\innomatics research labs\\vaibhav saran\\irl_class\\lib\\site-packages (from tf-models-official) (8.3.1)\n",
      "Collecting oauth2client\n",
      "  Downloading oauth2client-4.1.3-py2.py3-none-any.whl (98 kB)\n",
      "     ---------------------------------------- 98.2/98.2 kB ? eta 0:00:00\n",
      "Collecting tensorflow-datasets\n",
      "  Downloading tensorflow_datasets-4.8.2-py3-none-any.whl (5.3 MB)\n",
      "     ---------------------------------------- 5.3/5.3 MB 28.4 MB/s eta 0:00:00\n",
      "Requirement already satisfied: pycocotools in d:\\innomatics research labs\\vaibhav saran\\irl_class\\lib\\site-packages (from tf-models-official) (2.0.2)\n",
      "Collecting tensorflow~=2.10.0\n",
      "  Downloading tensorflow-2.10.1-cp38-cp38-win_amd64.whl (455.9 MB)\n",
      "     -------------------------------------- 455.9/455.9 MB 6.0 MB/s eta 0:00:00\n",
      "Collecting tensorflow-addons\n",
      "  Downloading tensorflow_addons-0.19.0-cp38-cp38-win_amd64.whl (742 kB)\n",
      "     ------------------------------------- 742.4/742.4 kB 22.9 MB/s eta 0:00:00\n",
      "Requirement already satisfied: lxml in d:\\innomatics research labs\\vaibhav saran\\irl_class\\lib\\site-packages (from sacrebleu==2.2.0->tf-models-official) (4.6.3)\n",
      "Collecting portalocker\n",
      "  Downloading portalocker-2.7.0-py2.py3-none-any.whl (15 kB)\n",
      "Collecting tabulate>=0.8.9\n",
      "  Downloading tabulate-0.9.0-py3-none-any.whl (35 kB)\n",
      "Requirement already satisfied: colorama in d:\\innomatics research labs\\vaibhav saran\\irl_class\\lib\\site-packages (from sacrebleu==2.2.0->tf-models-official) (0.4.6)\n",
      "Collecting regex\n",
      "  Downloading regex-2022.10.31-cp38-cp38-win_amd64.whl (267 kB)\n",
      "     ------------------------------------- 267.7/267.7 kB 17.2 MB/s eta 0:00:00\n",
      "Collecting google-auth-httplib2>=0.1.0\n",
      "  Downloading google_auth_httplib2-0.1.0-py2.py3-none-any.whl (9.3 kB)\n",
      "Collecting httplib2<1dev,>=0.15.0\n",
      "  Downloading httplib2-0.21.0-py3-none-any.whl (96 kB)\n",
      "     ---------------------------------------- 96.8/96.8 kB ? eta 0:00:00\n",
      "Collecting google-api-core!=2.0.*,!=2.1.*,!=2.2.*,!=2.3.0,<3.0.0dev,>=1.31.5\n",
      "  Downloading google_api_core-2.11.0-py3-none-any.whl (120 kB)\n",
      "     -------------------------------------- 120.3/120.3 kB 6.9 MB/s eta 0:00:00\n",
      "Collecting uritemplate<5,>=3.0.1\n",
      "  Downloading uritemplate-4.1.1-py2.py3-none-any.whl (10 kB)\n",
      "Requirement already satisfied: google-auth<3.0.0dev,>=1.19.0 in d:\\innomatics research labs\\vaibhav saran\\irl_class\\lib\\site-packages (from google-api-python-client>=1.6.7->tf-models-official) (2.16.0)\n",
      "Requirement already satisfied: certifi in d:\\innomatics research labs\\vaibhav saran\\irl_class\\lib\\site-packages (from kaggle>=1.3.9->tf-models-official) (2022.12.7)\n",
      "Requirement already satisfied: python-dateutil in d:\\innomatics research labs\\vaibhav saran\\irl_class\\lib\\site-packages (from kaggle>=1.3.9->tf-models-official) (2.8.2)\n",
      "Requirement already satisfied: requests in d:\\innomatics research labs\\vaibhav saran\\irl_class\\lib\\site-packages (from kaggle>=1.3.9->tf-models-official) (2.28.2)\n",
      "Collecting tqdm\n",
      "  Downloading tqdm-4.64.1-py2.py3-none-any.whl (78 kB)\n",
      "     ---------------------------------------- 78.5/78.5 kB ? eta 0:00:00\n",
      "Collecting python-slugify\n",
      "  Downloading python_slugify-8.0.0-py2.py3-none-any.whl (9.5 kB)\n",
      "Requirement already satisfied: urllib3 in d:\\innomatics research labs\\vaibhav saran\\irl_class\\lib\\site-packages (from kaggle>=1.3.9->tf-models-official) (1.26.14)\n",
      "Requirement already satisfied: pytz>=2017.3 in d:\\innomatics research labs\\vaibhav saran\\irl_class\\lib\\site-packages (from pandas>=0.22.0->tf-models-official) (2021.1)\n",
      "Collecting flatbuffers>=2.0\n",
      "  Using cached flatbuffers-23.1.21-py2.py3-none-any.whl (26 kB)\n",
      "Requirement already satisfied: tensorflow-io-gcs-filesystem>=0.23.1 in d:\\innomatics research labs\\vaibhav saran\\irl_class\\lib\\site-packages (from tensorflow~=2.10.0->tf-models-official) (0.30.0)\n",
      "Requirement already satisfied: gast<=0.4.0,>=0.2.1 in d:\\innomatics research labs\\vaibhav saran\\irl_class\\lib\\site-packages (from tensorflow~=2.10.0->tf-models-official) (0.4.0)\n",
      "Requirement already satisfied: grpcio<2.0,>=1.24.3 in d:\\innomatics research labs\\vaibhav saran\\irl_class\\lib\\site-packages (from tensorflow~=2.10.0->tf-models-official) (1.34.1)\n",
      "Collecting tensorflow-estimator<2.11,>=2.10.0\n",
      "  Downloading tensorflow_estimator-2.10.0-py2.py3-none-any.whl (438 kB)\n",
      "     ------------------------------------- 438.7/438.7 kB 13.8 MB/s eta 0:00:00\n",
      "Requirement already satisfied: termcolor>=1.1.0 in d:\\innomatics research labs\\vaibhav saran\\irl_class\\lib\\site-packages (from tensorflow~=2.10.0->tf-models-official) (1.1.0)\n",
      "Requirement already satisfied: google-pasta>=0.1.1 in d:\\innomatics research labs\\vaibhav saran\\irl_class\\lib\\site-packages (from tensorflow~=2.10.0->tf-models-official) (0.2.0)\n",
      "Collecting tensorboard<2.11,>=2.10\n",
      "  Downloading tensorboard-2.10.1-py3-none-any.whl (5.9 MB)\n",
      "     ---------------------------------------- 5.9/5.9 MB 16.3 MB/s eta 0:00:00\n",
      "Requirement already satisfied: h5py>=2.9.0 in d:\\innomatics research labs\\vaibhav saran\\irl_class\\lib\\site-packages (from tensorflow~=2.10.0->tf-models-official) (3.1.0)\n",
      "Requirement already satisfied: libclang>=13.0.0 in d:\\innomatics research labs\\vaibhav saran\\irl_class\\lib\\site-packages (from tensorflow~=2.10.0->tf-models-official) (15.0.6.1)\n",
      "Requirement already satisfied: opt-einsum>=2.3.2 in d:\\innomatics research labs\\vaibhav saran\\irl_class\\lib\\site-packages (from tensorflow~=2.10.0->tf-models-official) (3.3.0)\n",
      "Requirement already satisfied: keras-preprocessing>=1.1.1 in d:\\innomatics research labs\\vaibhav saran\\irl_class\\lib\\site-packages (from tensorflow~=2.10.0->tf-models-official) (1.1.2)\n",
      "Collecting keras<2.11,>=2.10.0\n",
      "  Downloading keras-2.10.0-py2.py3-none-any.whl (1.7 MB)\n",
      "     ---------------------------------------- 1.7/1.7 MB 27.0 MB/s eta 0:00:00\n",
      "Requirement already satisfied: protobuf<3.20,>=3.9.2 in d:\\innomatics research labs\\vaibhav saran\\irl_class\\lib\\site-packages (from tensorflow~=2.10.0->tf-models-official) (3.17.3)\n",
      "Requirement already satisfied: packaging in d:\\innomatics research labs\\vaibhav saran\\irl_class\\lib\\site-packages (from tensorflow~=2.10.0->tf-models-official) (23.0)\n",
      "Requirement already satisfied: wrapt>=1.11.0 in d:\\innomatics research labs\\vaibhav saran\\irl_class\\lib\\site-packages (from tensorflow~=2.10.0->tf-models-official) (1.12.1)\n",
      "Requirement already satisfied: astunparse>=1.6.0 in d:\\innomatics research labs\\vaibhav saran\\irl_class\\lib\\site-packages (from tensorflow~=2.10.0->tf-models-official) (1.6.3)\n",
      "Requirement already satisfied: typing-extensions>=3.6.6 in d:\\innomatics research labs\\vaibhav saran\\irl_class\\lib\\site-packages (from tensorflow~=2.10.0->tf-models-official) (3.7.4.3)\n",
      "Collecting absl-py>=1.0.0\n",
      "  Using cached absl_py-1.4.0-py3-none-any.whl (126 kB)\n",
      "Requirement already satisfied: setuptools in d:\\innomatics research labs\\vaibhav saran\\irl_class\\lib\\site-packages (from tensorflow~=2.10.0->tf-models-official) (56.0.0)\n",
      "Collecting dm-tree~=0.1.1\n",
      "  Downloading dm_tree-0.1.8-cp38-cp38-win_amd64.whl (101 kB)\n",
      "     -------------------------------------- 101.4/101.4 kB 6.1 MB/s eta 0:00:00\n",
      "Requirement already satisfied: cycler>=0.10 in d:\\innomatics research labs\\vaibhav saran\\irl_class\\lib\\site-packages (from matplotlib->tf-models-official) (0.11.0)\n",
      "Requirement already satisfied: kiwisolver>=1.0.1 in d:\\innomatics research labs\\vaibhav saran\\irl_class\\lib\\site-packages (from matplotlib->tf-models-official) (1.4.4)\n",
      "Requirement already satisfied: pyparsing!=2.0.4,!=2.1.2,!=2.1.6,>=2.0.1 in d:\\innomatics research labs\\vaibhav saran\\irl_class\\lib\\site-packages (from matplotlib->tf-models-official) (3.0.9)\n",
      "Requirement already satisfied: pyasn1>=0.1.7 in d:\\innomatics research labs\\vaibhav saran\\irl_class\\lib\\site-packages (from oauth2client->tf-models-official) (0.4.8)\n",
      "Requirement already satisfied: pyasn1-modules>=0.0.5 in d:\\innomatics research labs\\vaibhav saran\\irl_class\\lib\\site-packages (from oauth2client->tf-models-official) (0.2.8)\n",
      "Requirement already satisfied: rsa>=3.1.4 in d:\\innomatics research labs\\vaibhav saran\\irl_class\\lib\\site-packages (from oauth2client->tf-models-official) (4.9)\n",
      "Collecting scikit-learn>=0.21.3\n",
      "  Downloading scikit_learn-1.2.1-cp38-cp38-win_amd64.whl (8.3 MB)\n",
      "     ---------------------------------------- 8.3/8.3 MB 25.2 MB/s eta 0:00:00\n",
      "Requirement already satisfied: typeguard>=2.7 in d:\\innomatics research labs\\vaibhav saran\\irl_class\\lib\\site-packages (from tensorflow-addons->tf-models-official) (2.12.1)\n",
      "Collecting tensorflow-metadata\n",
      "  Downloading tensorflow_metadata-1.12.0-py3-none-any.whl (52 kB)\n",
      "     ---------------------------------------- 52.3/52.3 kB ? eta 0:00:00\n",
      "Requirement already satisfied: toml in d:\\innomatics research labs\\vaibhav saran\\irl_class\\lib\\site-packages (from tensorflow-datasets->tf-models-official) (0.10.2)\n",
      "Collecting promise\n",
      "  Downloading promise-2.3.tar.gz (19 kB)\n",
      "  Preparing metadata (setup.py): started\n",
      "  Preparing metadata (setup.py): finished with status 'done'\n",
      "Collecting click\n",
      "  Using cached click-8.1.3-py3-none-any.whl (96 kB)\n",
      "Requirement already satisfied: importlib-resources in d:\\innomatics research labs\\vaibhav saran\\irl_class\\lib\\site-packages (from tensorflow-datasets->tf-models-official) (5.10.2)\n",
      "Collecting dill\n",
      "  Downloading dill-0.3.6-py3-none-any.whl (110 kB)\n",
      "     ---------------------------------------- 110.5/110.5 kB ? eta 0:00:00\n",
      "Collecting etils[enp,epath]>=0.9.0\n",
      "  Downloading etils-1.0.0-py3-none-any.whl (146 kB)\n",
      "     ---------------------------------------- 146.5/146.5 kB ? eta 0:00:00\n",
      "Requirement already satisfied: wheel<1.0,>=0.23.0 in d:\\innomatics research labs\\vaibhav saran\\irl_class\\lib\\site-packages (from astunparse>=1.6.0->tensorflow~=2.10.0->tf-models-official) (0.36.2)\n",
      "Requirement already satisfied: zipp in d:\\innomatics research labs\\vaibhav saran\\irl_class\\lib\\site-packages (from etils[enp,epath]>=0.9.0->tensorflow-datasets->tf-models-official) (3.12.0)\n",
      "Collecting protobuf<3.20,>=3.9.2\n",
      "  Using cached protobuf-3.19.6-cp38-cp38-win_amd64.whl (896 kB)\n",
      "Collecting googleapis-common-protos<2.0dev,>=1.56.2\n",
      "  Downloading googleapis_common_protos-1.58.0-py2.py3-none-any.whl (223 kB)\n",
      "     ------------------------------------- 223.0/223.0 kB 13.3 MB/s eta 0:00:00\n",
      "Requirement already satisfied: cachetools<6.0,>=2.0.0 in d:\\innomatics research labs\\vaibhav saran\\irl_class\\lib\\site-packages (from google-auth<3.0.0dev,>=1.19.0->google-api-python-client>=1.6.7->tf-models-official) (5.3.0)\n",
      "Requirement already satisfied: idna<4,>=2.5 in d:\\innomatics research labs\\vaibhav saran\\irl_class\\lib\\site-packages (from requests->kaggle>=1.3.9->tf-models-official) (3.4)\n",
      "Requirement already satisfied: charset-normalizer<4,>=2 in d:\\innomatics research labs\\vaibhav saran\\irl_class\\lib\\site-packages (from requests->kaggle>=1.3.9->tf-models-official) (3.0.1)\n",
      "Collecting joblib>=1.1.1\n",
      "  Downloading joblib-1.2.0-py3-none-any.whl (297 kB)\n",
      "     ------------------------------------- 298.0/298.0 kB 18.0 MB/s eta 0:00:00\n",
      "Collecting threadpoolctl>=2.0.0\n",
      "  Using cached threadpoolctl-3.1.0-py3-none-any.whl (14 kB)\n",
      "Requirement already satisfied: markdown>=2.6.8 in d:\\innomatics research labs\\vaibhav saran\\irl_class\\lib\\site-packages (from tensorboard<2.11,>=2.10->tensorflow~=2.10.0->tf-models-official) (3.4.1)\n",
      "Requirement already satisfied: werkzeug>=1.0.1 in d:\\innomatics research labs\\vaibhav saran\\irl_class\\lib\\site-packages (from tensorboard<2.11,>=2.10->tensorflow~=2.10.0->tf-models-official) (2.2.2)\n",
      "Requirement already satisfied: tensorboard-data-server<0.7.0,>=0.6.0 in d:\\innomatics research labs\\vaibhav saran\\irl_class\\lib\\site-packages (from tensorboard<2.11,>=2.10->tensorflow~=2.10.0->tf-models-official) (0.6.1)\n",
      "Requirement already satisfied: google-auth-oauthlib<0.5,>=0.4.1 in d:\\innomatics research labs\\vaibhav saran\\irl_class\\lib\\site-packages (from tensorboard<2.11,>=2.10->tensorflow~=2.10.0->tf-models-official) (0.4.6)\n",
      "Requirement already satisfied: tensorboard-plugin-wit>=1.6.0 in d:\\innomatics research labs\\vaibhav saran\\irl_class\\lib\\site-packages (from tensorboard<2.11,>=2.10->tensorflow~=2.10.0->tf-models-official) (1.8.1)\n",
      "Requirement already satisfied: pywin32>=226 in d:\\innomatics research labs\\vaibhav saran\\irl_class\\lib\\site-packages (from portalocker->sacrebleu==2.2.0->tf-models-official) (305)\n",
      "Collecting text-unidecode>=1.3\n",
      "  Downloading text_unidecode-1.3-py2.py3-none-any.whl (78 kB)\n",
      "     ---------------------------------------- 78.2/78.2 kB ? eta 0:00:00\n",
      "Requirement already satisfied: requests-oauthlib>=0.7.0 in d:\\innomatics research labs\\vaibhav saran\\irl_class\\lib\\site-packages (from google-auth-oauthlib<0.5,>=0.4.1->tensorboard<2.11,>=2.10->tensorflow~=2.10.0->tf-models-official) (1.3.1)\n",
      "Requirement already satisfied: importlib-metadata>=4.4 in d:\\innomatics research labs\\vaibhav saran\\irl_class\\lib\\site-packages (from markdown>=2.6.8->tensorboard<2.11,>=2.10->tensorflow~=2.10.0->tf-models-official) (6.0.0)\n",
      "Requirement already satisfied: MarkupSafe>=2.1.1 in d:\\innomatics research labs\\vaibhav saran\\irl_class\\lib\\site-packages (from werkzeug>=1.0.1->tensorboard<2.11,>=2.10->tensorflow~=2.10.0->tf-models-official) (2.1.2)\n",
      "Requirement already satisfied: oauthlib>=3.0.0 in d:\\innomatics research labs\\vaibhav saran\\irl_class\\lib\\site-packages (from requests-oauthlib>=0.7.0->google-auth-oauthlib<0.5,>=0.4.1->tensorboard<2.11,>=2.10->tensorflow~=2.10.0->tf-models-official) (3.2.2)\n",
      "Building wheels for collected packages: kaggle, seqeval, promise\n",
      "  Building wheel for kaggle (setup.py): started\n",
      "  Building wheel for kaggle (setup.py): finished with status 'done'\n",
      "  Created wheel for kaggle: filename=kaggle-1.5.12-py3-none-any.whl size=73053 sha256=54ffe496f6271b5eae1f19c97eb284819e4191c535a7e24335bf5b8ea763707e\n",
      "  Stored in directory: c:\\users\\vaibh\\appdata\\local\\pip\\cache\\wheels\\03\\f3\\c7\\fc5a63bb33d22177609b06c5b4c714b5eb3f1b195ce9dc5e47\n",
      "  Building wheel for seqeval (setup.py): started\n",
      "  Building wheel for seqeval (setup.py): finished with status 'done'\n",
      "  Created wheel for seqeval: filename=seqeval-1.2.2-py3-none-any.whl size=16170 sha256=e99821b0baa8fe37d4c5355c404f90e034bcd2520ab6c1757241a6f9079d29b9\n",
      "  Stored in directory: c:\\users\\vaibh\\appdata\\local\\pip\\cache\\wheels\\e3\\30\\9b\\6b670dac34775f2b7cc4e9b172202e81fbb4f9cdb103c1ca66\n",
      "  Building wheel for promise (setup.py): started\n",
      "  Building wheel for promise (setup.py): finished with status 'done'\n",
      "  Created wheel for promise: filename=promise-2.3-py3-none-any.whl size=21494 sha256=9cc5cb38edf7663a8dd402e088fd60d3cef1d6995843f2571cd12ba9e77f6200\n",
      "  Stored in directory: c:\\users\\vaibh\\appdata\\local\\pip\\cache\\wheels\\6a\\fe\\dc\\a7b3e03dfd0afb3a19691905bbafac1fbaebb704a02a4daeb2\n",
      "Successfully built kaggle seqeval promise\n",
      "Installing collected packages: text-unidecode, sentencepiece, py-cpuinfo, keras, flatbuffers, dm-tree, uritemplate, tqdm, threadpoolctl, tensorflow-estimator, tensorflow-addons, tabulate, regex, python-slugify, protobuf, promise, portalocker, numpy, joblib, immutabledict, httplib2, etils, dill, click, absl-py, tf-slim, tensorflow-model-optimization, tensorflow-hub, sacrebleu, opencv-python-headless, oauth2client, kaggle, googleapis-common-protos, tensorflow-metadata, scikit-learn, google-auth-httplib2, google-api-core, tensorflow-datasets, tensorboard, seqeval, google-api-python-client, tensorflow, tensorflow-text, tf-models-official\n",
      "  Attempting uninstall: keras\n",
      "    Found existing installation: Keras 2.4.3\n",
      "    Uninstalling Keras-2.4.3:\n",
      "      Successfully uninstalled Keras-2.4.3\n",
      "  Attempting uninstall: flatbuffers\n",
      "    Found existing installation: flatbuffers 1.12\n",
      "    Uninstalling flatbuffers-1.12:\n",
      "      Successfully uninstalled flatbuffers-1.12\n",
      "  Attempting uninstall: tensorflow-estimator\n",
      "    Found existing installation: tensorflow-estimator 2.5.0\n",
      "    Uninstalling tensorflow-estimator-2.5.0:\n",
      "      Successfully uninstalled tensorflow-estimator-2.5.0\n",
      "  Attempting uninstall: protobuf\n",
      "    Found existing installation: protobuf 3.17.3\n",
      "    Uninstalling protobuf-3.17.3:\n",
      "      Successfully uninstalled protobuf-3.17.3\n",
      "  Attempting uninstall: numpy\n",
      "    Found existing installation: numpy 1.19.5\n",
      "    Uninstalling numpy-1.19.5:\n",
      "      Successfully uninstalled numpy-1.19.5\n"
     ]
    },
    {
     "name": "stderr",
     "output_type": "stream",
     "text": [
      "WARNING: Ignoring invalid distribution -rotobuf (d:\\innomatics research labs\\vaibhav saran\\irl_class\\lib\\site-packages)\n",
      "WARNING: Ignoring invalid distribution -rotobuf (d:\\innomatics research labs\\vaibhav saran\\irl_class\\lib\\site-packages)\n",
      "WARNING: Ignoring invalid distribution -rotobuf (d:\\innomatics research labs\\vaibhav saran\\irl_class\\lib\\site-packages)\n",
      "    WARNING: Ignoring invalid distribution -rotobuf (d:\\innomatics research labs\\vaibhav saran\\irl_class\\lib\\site-packages)\n",
      "    WARNING: Ignoring invalid distribution -rotobuf (d:\\innomatics research labs\\vaibhav saran\\irl_class\\lib\\site-packages)\n",
      "    WARNING: Ignoring invalid distribution -rotobuf (d:\\innomatics research labs\\vaibhav saran\\irl_class\\lib\\site-packages)\n",
      "    WARNING: Ignoring invalid distribution -rotobuf (d:\\innomatics research labs\\vaibhav saran\\irl_class\\lib\\site-packages)\n",
      "    WARNING: Ignoring invalid distribution -rotobuf (d:\\innomatics research labs\\vaibhav saran\\irl_class\\lib\\site-packages)\n",
      "ERROR: Could not install packages due to an OSError: [WinError 5] Access is denied: 'D:\\\\Innomatics Research Labs\\\\Vaibhav Saran\\\\IRL_class\\\\Lib\\\\site-packages\\\\~umpy\\\\.libs\\\\libopenblas.WCDJNK7YVMPZQ2ME2ZZHJJRJ3JIKNDB7.gfortran-win_amd64.dll'\n",
      "Check the permissions.\n",
      "\n",
      "WARNING: Ignoring invalid distribution -rotobuf (d:\\innomatics research labs\\vaibhav saran\\irl_class\\lib\\site-packages)\n",
      "WARNING: Ignoring invalid distribution -rotobuf (d:\\innomatics research labs\\vaibhav saran\\irl_class\\lib\\site-packages)\n",
      "WARNING: Ignoring invalid distribution -rotobuf (d:\\innomatics research labs\\vaibhav saran\\irl_class\\lib\\site-packages)\n"
     ]
    }
   ],
   "source": [
    "!pip install tf-models-official"
   ]
  },
  {
   "cell_type": "code",
   "execution_count": 42,
   "id": "a8ed5e26-1e0a-4950-8f58-102a74d8b036",
   "metadata": {
    "collapsed": true,
    "jupyter": {
     "outputs_hidden": true
    },
    "tags": []
   },
   "outputs": [
    {
     "name": "stdout",
     "output_type": "stream",
     "text": [
      "Collecting apache-beam==2.31.0\n",
      "  Downloading apache_beam-2.31.0-cp38-cp38-win_amd64.whl (3.8 MB)\n",
      "     ---------------------------------------- 3.8/3.8 MB 3.5 MB/s eta 0:00:00\n",
      "Collecting fastavro<2,>=0.21.4\n",
      "  Downloading fastavro-1.7.1-cp38-cp38-win_amd64.whl (456 kB)\n",
      "     ------------------------------------- 456.8/456.8 kB 29.8 MB/s eta 0:00:00\n",
      "Collecting pymongo<4.0.0,>=3.8.0\n",
      "  Downloading pymongo-3.13.0-cp38-cp38-win_amd64.whl (394 kB)\n",
      "     ------------------------------------- 394.4/394.4 kB 24.0 MB/s eta 0:00:00\n",
      "Collecting pydot<2,>=1.2.0\n",
      "  Downloading pydot-1.4.2-py2.py3-none-any.whl (21 kB)\n",
      "Requirement already satisfied: protobuf<4,>=3.12.2 in d:\\innomatics research labs\\vaibhav saran\\irl_class\\lib\\site-packages (from apache-beam==2.31.0) (3.19.6)\n",
      "Requirement already satisfied: grpcio<2,>=1.29.0 in d:\\innomatics research labs\\vaibhav saran\\irl_class\\lib\\site-packages (from apache-beam==2.31.0) (1.34.1)\n",
      "Collecting oauth2client<5,>=2.0.1\n",
      "  Using cached oauth2client-4.1.3-py2.py3-none-any.whl (98 kB)\n",
      "Requirement already satisfied: python-dateutil<3,>=2.8.0 in d:\\innomatics research labs\\vaibhav saran\\irl_class\\lib\\site-packages (from apache-beam==2.31.0) (2.8.2)\n",
      "Collecting crcmod<2.0,>=1.7\n",
      "  Downloading crcmod-1.7.tar.gz (89 kB)\n",
      "     ---------------------------------------- 89.7/89.7 kB ? eta 0:00:00\n",
      "  Preparing metadata (setup.py): started\n",
      "  Preparing metadata (setup.py): finished with status 'done'\n",
      "Requirement already satisfied: requests<3.0.0,>=2.24.0 in d:\\innomatics research labs\\vaibhav saran\\irl_class\\lib\\site-packages (from apache-beam==2.31.0) (2.28.2)\n",
      "Collecting httplib2<0.20.0,>=0.8\n",
      "  Downloading httplib2-0.19.1-py3-none-any.whl (95 kB)\n",
      "     ---------------------------------------- 95.4/95.4 kB ? eta 0:00:00\n",
      "Collecting hdfs<3.0.0,>=2.1.0\n",
      "  Downloading hdfs-2.7.0-py3-none-any.whl (34 kB)\n",
      "Collecting numpy<1.21.0,>=1.14.3\n",
      "  Downloading numpy-1.20.3-cp38-cp38-win_amd64.whl (13.7 MB)\n",
      "     --------------------------------------- 13.7/13.7 MB 17.2 MB/s eta 0:00:00\n",
      "Requirement already satisfied: pytz>=2018.3 in d:\\innomatics research labs\\vaibhav saran\\irl_class\\lib\\site-packages (from apache-beam==2.31.0) (2021.1)\n",
      "Collecting pyarrow<5.0.0,>=0.15.1\n",
      "  Downloading pyarrow-4.0.1-cp38-cp38-win_amd64.whl (13.3 MB)\n",
      "     ---------------------------------------- 13.3/13.3 MB 3.6 MB/s eta 0:00:00\n",
      "Collecting future<1.0.0,>=0.18.2\n",
      "  Downloading future-0.18.3.tar.gz (840 kB)\n",
      "     ------------------------------------- 840.9/840.9 kB 17.7 MB/s eta 0:00:00\n",
      "  Preparing metadata (setup.py): started\n",
      "  Preparing metadata (setup.py): finished with status 'done'\n",
      "Requirement already satisfied: typing-extensions<3.8.0,>=3.7.0 in d:\\innomatics research labs\\vaibhav saran\\irl_class\\lib\\site-packages (from apache-beam==2.31.0) (3.7.4.3)\n",
      "Collecting dill<0.3.2,>=0.3.1.1\n",
      "  Downloading dill-0.3.1.1.tar.gz (151 kB)\n",
      "     ---------------------------------------- 152.0/152.0 kB ? eta 0:00:00\n",
      "  Preparing metadata (setup.py): started\n",
      "  Preparing metadata (setup.py): finished with status 'done'\n",
      "Collecting avro-python3!=1.9.2,<1.10.0,>=1.8.1\n",
      "  Downloading avro-python3-1.9.2.1.tar.gz (37 kB)\n",
      "  Preparing metadata (setup.py): started\n",
      "  Preparing metadata (setup.py): finished with status 'done'\n",
      "Requirement already satisfied: six>=1.5.2 in d:\\innomatics research labs\\vaibhav saran\\irl_class\\lib\\site-packages (from grpcio<2,>=1.29.0->apache-beam==2.31.0) (1.15.0)\n",
      "Collecting docopt\n",
      "  Downloading docopt-0.6.2.tar.gz (25 kB)\n",
      "  Preparing metadata (setup.py): started\n",
      "  Preparing metadata (setup.py): finished with status 'done'\n",
      "Collecting pyparsing<3,>=2.4.2\n",
      "  Downloading pyparsing-2.4.7-py2.py3-none-any.whl (67 kB)\n",
      "     ---------------------------------------- 67.8/67.8 kB 3.8 MB/s eta 0:00:00\n",
      "Requirement already satisfied: pyasn1-modules>=0.0.5 in d:\\innomatics research labs\\vaibhav saran\\irl_class\\lib\\site-packages (from oauth2client<5,>=2.0.1->apache-beam==2.31.0) (0.2.8)\n",
      "Requirement already satisfied: rsa>=3.1.4 in d:\\innomatics research labs\\vaibhav saran\\irl_class\\lib\\site-packages (from oauth2client<5,>=2.0.1->apache-beam==2.31.0) (4.9)\n",
      "Requirement already satisfied: pyasn1>=0.1.7 in d:\\innomatics research labs\\vaibhav saran\\irl_class\\lib\\site-packages (from oauth2client<5,>=2.0.1->apache-beam==2.31.0) (0.4.8)\n",
      "Requirement already satisfied: certifi>=2017.4.17 in d:\\innomatics research labs\\vaibhav saran\\irl_class\\lib\\site-packages (from requests<3.0.0,>=2.24.0->apache-beam==2.31.0) (2022.12.7)\n",
      "Requirement already satisfied: urllib3<1.27,>=1.21.1 in d:\\innomatics research labs\\vaibhav saran\\irl_class\\lib\\site-packages (from requests<3.0.0,>=2.24.0->apache-beam==2.31.0) (1.26.14)\n",
      "Requirement already satisfied: charset-normalizer<4,>=2 in d:\\innomatics research labs\\vaibhav saran\\irl_class\\lib\\site-packages (from requests<3.0.0,>=2.24.0->apache-beam==2.31.0) (3.0.1)\n",
      "Requirement already satisfied: idna<4,>=2.5 in d:\\innomatics research labs\\vaibhav saran\\irl_class\\lib\\site-packages (from requests<3.0.0,>=2.24.0->apache-beam==2.31.0) (3.4)\n",
      "Building wheels for collected packages: avro-python3, crcmod, dill, future, docopt\n",
      "  Building wheel for avro-python3 (setup.py): started\n",
      "  Building wheel for avro-python3 (setup.py): finished with status 'done'\n",
      "  Created wheel for avro-python3: filename=avro_python3-1.9.2.1-py3-none-any.whl size=43512 sha256=5148ebb9923c7a64c067d642f00d88f011764b0a4b40a2e8fb4662e3a7da5076\n",
      "  Stored in directory: c:\\users\\vaibh\\appdata\\local\\pip\\cache\\wheels\\c6\\28\\2e\\007446d42df7628701421e73f4e2337afe07e7529f01cd01a5\n",
      "  Building wheel for crcmod (setup.py): started\n",
      "  Building wheel for crcmod (setup.py): finished with status 'done'\n",
      "  Created wheel for crcmod: filename=crcmod-1.7-cp38-cp38-win_amd64.whl size=25346 sha256=d836193bf37b1a7e32f3be52abe33f009f1b407cfc0b84c5a866e23135079dd1\n",
      "  Stored in directory: c:\\users\\vaibh\\appdata\\local\\pip\\cache\\wheels\\f2\\92\\c3\\6adef042a5224686e4ebdb9389aa568f1943c67abd8e05f7b9\n",
      "  Building wheel for dill (setup.py): started\n",
      "  Building wheel for dill (setup.py): finished with status 'done'\n",
      "  Created wheel for dill: filename=dill-0.3.1.1-py3-none-any.whl size=78594 sha256=1f2ec7817a4a6b88ee8165578519bd3810aea14ccc626e44f759f58a3b4c3e9a\n",
      "  Stored in directory: c:\\users\\vaibh\\appdata\\local\\pip\\cache\\wheels\\cc\\f7\\48\\22bb9c8c35e6d86a02a8d3bc89f4462bc705ef75f6cbf84be0\n",
      "  Building wheel for future (setup.py): started\n",
      "  Building wheel for future (setup.py): finished with status 'done'\n",
      "  Created wheel for future: filename=future-0.18.3-py3-none-any.whl size=492026 sha256=0179c1d2b827158ccd405420e06f4594269547fe05ad9d79525dc17fb9798061\n",
      "  Stored in directory: c:\\users\\vaibh\\appdata\\local\\pip\\cache\\wheels\\a6\\db\\41\\71a0e5d071a14e716cc11bb021a9caa8f76ec337eca071487e\n",
      "  Building wheel for docopt (setup.py): started\n",
      "  Building wheel for docopt (setup.py): finished with status 'done'\n",
      "  Created wheel for docopt: filename=docopt-0.6.2-py2.py3-none-any.whl size=13705 sha256=09e7e91f74ddb70f724def2da3aa70be662c0a027afb182ce89e14fd11b33de7\n",
      "  Stored in directory: c:\\users\\vaibh\\appdata\\local\\pip\\cache\\wheels\\ca\\cc\\e3\\f1e272f628fdb013d969acc99cfe2e031ea15b3efb74ffe842\n",
      "Successfully built avro-python3 crcmod dill future docopt\n",
      "Installing collected packages: docopt, crcmod, pyparsing, pymongo, numpy, future, fastavro, dill, avro-python3, pydot, pyarrow, httplib2, hdfs, oauth2client, apache-beam\n",
      "  Attempting uninstall: pyparsing\n",
      "    Found existing installation: pyparsing 3.0.9\n",
      "    Uninstalling pyparsing-3.0.9:\n",
      "      Successfully uninstalled pyparsing-3.0.9\n",
      "  Attempting uninstall: numpy\n",
      "    Found existing installation: numpy 1.24.1\n",
      "    Uninstalling numpy-1.24.1:\n",
      "      Successfully uninstalled numpy-1.24.1\n",
      "Successfully installed apache-beam-2.31.0 avro-python3-1.9.2.1 crcmod-1.7 dill-0.3.1.1 docopt-0.6.2 fastavro-1.7.1 future-0.18.3 hdfs-2.7.0 httplib2-0.19.1 numpy-1.20.3 oauth2client-4.1.3 pyarrow-4.0.1 pydot-1.4.2 pymongo-3.13.0 pyparsing-2.4.7\n"
     ]
    },
    {
     "name": "stderr",
     "output_type": "stream",
     "text": [
      "WARNING: Ignoring invalid distribution -rotobuf (d:\\innomatics research labs\\vaibhav saran\\irl_class\\lib\\site-packages)\n",
      "WARNING: Ignoring invalid distribution -rotobuf (d:\\innomatics research labs\\vaibhav saran\\irl_class\\lib\\site-packages)\n",
      "WARNING: Ignoring invalid distribution -rotobuf (d:\\innomatics research labs\\vaibhav saran\\irl_class\\lib\\site-packages)\n",
      "    WARNING: Ignoring invalid distribution -rotobuf (d:\\innomatics research labs\\vaibhav saran\\irl_class\\lib\\site-packages)\n",
      "    WARNING: Ignoring invalid distribution -rotobuf (d:\\innomatics research labs\\vaibhav saran\\irl_class\\lib\\site-packages)\n",
      "WARNING: Ignoring invalid distribution -rotobuf (d:\\innomatics research labs\\vaibhav saran\\irl_class\\lib\\site-packages)\n",
      "WARNING: Ignoring invalid distribution -rotobuf (d:\\innomatics research labs\\vaibhav saran\\irl_class\\lib\\site-packages)\n",
      "WARNING: Ignoring invalid distribution -rotobuf (d:\\innomatics research labs\\vaibhav saran\\irl_class\\lib\\site-packages)\n",
      "WARNING: Ignoring invalid distribution -rotobuf (d:\\innomatics research labs\\vaibhav saran\\irl_class\\lib\\site-packages)\n",
      "WARNING: Ignoring invalid distribution -rotobuf (d:\\innomatics research labs\\vaibhav saran\\irl_class\\lib\\site-packages)\n",
      "WARNING: Ignoring invalid distribution -rotobuf (d:\\innomatics research labs\\vaibhav saran\\irl_class\\lib\\site-packages)\n",
      "WARNING: Ignoring invalid distribution -rotobuf (d:\\innomatics research labs\\vaibhav saran\\irl_class\\lib\\site-packages)\n",
      "WARNING: Ignoring invalid distribution -rotobuf (d:\\innomatics research labs\\vaibhav saran\\irl_class\\lib\\site-packages)\n",
      "WARNING: Ignoring invalid distribution -rotobuf (d:\\innomatics research labs\\vaibhav saran\\irl_class\\lib\\site-packages)\n",
      "WARNING: Ignoring invalid distribution -rotobuf (d:\\innomatics research labs\\vaibhav saran\\irl_class\\lib\\site-packages)\n",
      "WARNING: Ignoring invalid distribution -rotobuf (d:\\innomatics research labs\\vaibhav saran\\irl_class\\lib\\site-packages)\n",
      "WARNING: Ignoring invalid distribution -rotobuf (d:\\innomatics research labs\\vaibhav saran\\irl_class\\lib\\site-packages)\n",
      "WARNING: Ignoring invalid distribution -rotobuf (d:\\innomatics research labs\\vaibhav saran\\irl_class\\lib\\site-packages)\n",
      "WARNING: Ignoring invalid distribution -rotobuf (d:\\innomatics research labs\\vaibhav saran\\irl_class\\lib\\site-packages)\n",
      "WARNING: Ignoring invalid distribution -rotobuf (d:\\innomatics research labs\\vaibhav saran\\irl_class\\lib\\site-packages)\n",
      "ERROR: pip's dependency resolver does not currently take into account all the packages that are installed. This behaviour is the source of the following dependency conflicts.\n",
      "tensorflow 2.5.0 requires flatbuffers~=1.12.0, but you have flatbuffers 23.1.21 which is incompatible.\n",
      "tensorflow 2.5.0 requires numpy~=1.19.2, but you have numpy 1.20.3 which is incompatible.\n",
      "tensorflow 2.5.0 requires tensorflow-estimator<2.6.0,>=2.5.0rc0, but you have tensorflow-estimator 2.10.0 which is incompatible.\n",
      "tensorflow-intel 2.11.0 requires absl-py>=1.0.0, but you have absl-py 0.15.0 which is incompatible.\n",
      "tensorflow-intel 2.11.0 requires keras<2.12,>=2.11.0, but you have keras 2.10.0 which is incompatible.\n",
      "tensorflow-intel 2.11.0 requires tensorflow-estimator<2.12,>=2.11.0, but you have tensorflow-estimator 2.10.0 which is incompatible.\n",
      "tensorflow-gpu 2.5.0 requires flatbuffers~=1.12.0, but you have flatbuffers 23.1.21 which is incompatible.\n",
      "tensorflow-gpu 2.5.0 requires numpy~=1.19.2, but you have numpy 1.20.3 which is incompatible.\n",
      "tensorflow-gpu 2.5.0 requires tensorflow-estimator<2.6.0,>=2.5.0rc0, but you have tensorflow-estimator 2.10.0 which is incompatible.\n",
      "WARNING: Ignoring invalid distribution -rotobuf (d:\\innomatics research labs\\vaibhav saran\\irl_class\\lib\\site-packages)\n",
      "WARNING: Ignoring invalid distribution -rotobuf (d:\\innomatics research labs\\vaibhav saran\\irl_class\\lib\\site-packages)\n",
      "WARNING: Ignoring invalid distribution -rotobuf (d:\\innomatics research labs\\vaibhav saran\\irl_class\\lib\\site-packages)\n"
     ]
    }
   ],
   "source": [
    "!pip install apache-beam==2.31.0"
   ]
  },
  {
   "cell_type": "code",
   "execution_count": 43,
   "id": "5e1cbaf0-037d-4740-ab9f-63c17d0a162e",
   "metadata": {
    "collapsed": true,
    "jupyter": {
     "outputs_hidden": true
    },
    "tags": []
   },
   "outputs": [
    {
     "name": "stdout",
     "output_type": "stream",
     "text": [
      "Requirement already satisfied: avro-python3==1.9.2.1 in d:\\innomatics research labs\\vaibhav saran\\irl_class\\lib\\site-packages (1.9.2.1)\n"
     ]
    },
    {
     "name": "stderr",
     "output_type": "stream",
     "text": [
      "WARNING: Ignoring invalid distribution -rotobuf (d:\\innomatics research labs\\vaibhav saran\\irl_class\\lib\\site-packages)\n",
      "WARNING: Ignoring invalid distribution -rotobuf (d:\\innomatics research labs\\vaibhav saran\\irl_class\\lib\\site-packages)\n",
      "WARNING: Ignoring invalid distribution -rotobuf (d:\\innomatics research labs\\vaibhav saran\\irl_class\\lib\\site-packages)\n",
      "WARNING: Ignoring invalid distribution -rotobuf (d:\\innomatics research labs\\vaibhav saran\\irl_class\\lib\\site-packages)\n",
      "WARNING: Ignoring invalid distribution -rotobuf (d:\\innomatics research labs\\vaibhav saran\\irl_class\\lib\\site-packages)\n",
      "WARNING: Ignoring invalid distribution -rotobuf (d:\\innomatics research labs\\vaibhav saran\\irl_class\\lib\\site-packages)\n"
     ]
    }
   ],
   "source": [
    "!pip install avro-python3==1.9.2.1"
   ]
  },
  {
   "cell_type": "code",
   "execution_count": 44,
   "id": "743a7eab-57cf-4755-a9eb-613cfeed7980",
   "metadata": {
    "collapsed": true,
    "jupyter": {
     "outputs_hidden": true
    },
    "tags": []
   },
   "outputs": [
    {
     "name": "stdout",
     "output_type": "stream",
     "text": [
      "Collecting contextlib2==21.6.0\n",
      "  Downloading contextlib2-21.6.0-py2.py3-none-any.whl (13 kB)\n",
      "Installing collected packages: contextlib2\n",
      "Successfully installed contextlib2-21.6.0\n"
     ]
    },
    {
     "name": "stderr",
     "output_type": "stream",
     "text": [
      "WARNING: Ignoring invalid distribution -rotobuf (d:\\innomatics research labs\\vaibhav saran\\irl_class\\lib\\site-packages)\n",
      "WARNING: Ignoring invalid distribution -rotobuf (d:\\innomatics research labs\\vaibhav saran\\irl_class\\lib\\site-packages)\n",
      "WARNING: Ignoring invalid distribution -rotobuf (d:\\innomatics research labs\\vaibhav saran\\irl_class\\lib\\site-packages)\n",
      "WARNING: Ignoring invalid distribution -rotobuf (d:\\innomatics research labs\\vaibhav saran\\irl_class\\lib\\site-packages)\n",
      "WARNING: Ignoring invalid distribution -rotobuf (d:\\innomatics research labs\\vaibhav saran\\irl_class\\lib\\site-packages)\n",
      "WARNING: Ignoring invalid distribution -rotobuf (d:\\innomatics research labs\\vaibhav saran\\irl_class\\lib\\site-packages)\n",
      "WARNING: Ignoring invalid distribution -rotobuf (d:\\innomatics research labs\\vaibhav saran\\irl_class\\lib\\site-packages)\n"
     ]
    }
   ],
   "source": [
    "!pip install contextlib2==21.6.0"
   ]
  },
  {
   "cell_type": "code",
   "execution_count": 45,
   "id": "58d690da-c87d-4046-9657-88c60e6c02fd",
   "metadata": {
    "collapsed": true,
    "jupyter": {
     "outputs_hidden": true
    },
    "tags": []
   },
   "outputs": [
    {
     "name": "stdout",
     "output_type": "stream",
     "text": [
      "Collecting lvis==0.5.3\n",
      "  Downloading lvis-0.5.3-py3-none-any.whl (14 kB)\n",
      "Requirement already satisfied: pyparsing>=2.4.0 in d:\\innomatics research labs\\vaibhav saran\\irl_class\\lib\\site-packages (from lvis==0.5.3) (2.4.7)\n",
      "Requirement already satisfied: six>=1.12.0 in d:\\innomatics research labs\\vaibhav saran\\irl_class\\lib\\site-packages (from lvis==0.5.3) (1.15.0)\n",
      "Requirement already satisfied: python-dateutil>=2.8.0 in d:\\innomatics research labs\\vaibhav saran\\irl_class\\lib\\site-packages (from lvis==0.5.3) (2.8.2)\n",
      "Requirement already satisfied: opencv-python>=4.1.0.25 in d:\\innomatics research labs\\vaibhav saran\\irl_class\\lib\\site-packages (from lvis==0.5.3) (4.5.3.56)\n",
      "Requirement already satisfied: numpy>=1.18.2 in d:\\innomatics research labs\\vaibhav saran\\irl_class\\lib\\site-packages (from lvis==0.5.3) (1.20.3)\n",
      "Requirement already satisfied: matplotlib>=3.1.1 in d:\\innomatics research labs\\vaibhav saran\\irl_class\\lib\\site-packages (from lvis==0.5.3) (3.2.0)\n",
      "Requirement already satisfied: cycler>=0.10.0 in d:\\innomatics research labs\\vaibhav saran\\irl_class\\lib\\site-packages (from lvis==0.5.3) (0.11.0)\n",
      "Requirement already satisfied: Cython>=0.29.12 in d:\\innomatics research labs\\vaibhav saran\\irl_class\\lib\\site-packages (from lvis==0.5.3) (0.29.33)\n",
      "Requirement already satisfied: kiwisolver>=1.1.0 in d:\\innomatics research labs\\vaibhav saran\\irl_class\\lib\\site-packages (from lvis==0.5.3) (1.4.4)\n",
      "Installing collected packages: lvis\n",
      "Successfully installed lvis-0.5.3\n"
     ]
    },
    {
     "name": "stderr",
     "output_type": "stream",
     "text": [
      "WARNING: Ignoring invalid distribution -rotobuf (d:\\innomatics research labs\\vaibhav saran\\irl_class\\lib\\site-packages)\n",
      "WARNING: Ignoring invalid distribution -rotobuf (d:\\innomatics research labs\\vaibhav saran\\irl_class\\lib\\site-packages)\n",
      "WARNING: Ignoring invalid distribution -rotobuf (d:\\innomatics research labs\\vaibhav saran\\irl_class\\lib\\site-packages)\n",
      "WARNING: Ignoring invalid distribution -rotobuf (d:\\innomatics research labs\\vaibhav saran\\irl_class\\lib\\site-packages)\n",
      "WARNING: Ignoring invalid distribution -rotobuf (d:\\innomatics research labs\\vaibhav saran\\irl_class\\lib\\site-packages)\n",
      "WARNING: Ignoring invalid distribution -rotobuf (d:\\innomatics research labs\\vaibhav saran\\irl_class\\lib\\site-packages)\n",
      "WARNING: Ignoring invalid distribution -rotobuf (d:\\innomatics research labs\\vaibhav saran\\irl_class\\lib\\site-packages)\n"
     ]
    }
   ],
   "source": [
    "!pip install lvis==0.5.3"
   ]
  },
  {
   "cell_type": "markdown",
   "id": "2ba483ad-4dbf-4d68-87ff-51683863849f",
   "metadata": {},
   "source": [
    "# WEBCAM ACCESS CHECK FOR OPENCV"
   ]
  },
  {
   "cell_type": "markdown",
   "id": "ddfacf0a-0cb8-492d-a271-f662937d3c32",
   "metadata": {},
   "source": [
    "cv2.VideoCapture(0) generally refers to Webcam of the PC, however in case of a different OS or an external camera, an error for \"Device not found\" may appear, in that case try changing the number from 0 to any other so that it can detect the video device. In case of MacOS there can be a situation where the number might be negative, generally it is 2."
   ]
  },
  {
   "cell_type": "code",
   "execution_count": 46,
   "id": "7f220b8a-7f16-44ae-87d5-bbe09f334e0c",
   "metadata": {},
   "outputs": [],
   "source": [
    "# Script to check the availability of webcam\n",
    "import cv2\n",
    "cap =cv2.VideoCapture(0) # This connects to the webcam / camera available at the moment (depends on the number the particular device will be selected)\n",
    "while cap.isOpened():\n",
    "    ret,frame = cap.read()\n",
    "    cv2.imshow(\"Open CV Feed\",frame)\n",
    "    if cv2.waitKey(10) & 0xFF == ord(\"q\"):\n",
    "        break\n",
    "cap.release()\n",
    "cv2.destroyAllWindows()"
   ]
  },
  {
   "cell_type": "markdown",
   "id": "85f52078-976c-4218-9914-68d5a144d116",
   "metadata": {},
   "source": [
    "# LIST OF ALL THE INSTALLED PACKAGES"
   ]
  },
  {
   "cell_type": "code",
   "execution_count": 47,
   "id": "86feac15-ef36-413f-a18e-974bdaf2f9c8",
   "metadata": {
    "collapsed": true,
    "jupyter": {
     "outputs_hidden": true
    },
    "tags": []
   },
   "outputs": [
    {
     "name": "stdout",
     "output_type": "stream",
     "text": [
      "Package                      Version\n",
      "---------------------------- -------------------\n",
      "absl-py                      0.15.0\n",
      "anyio                        3.6.2\n",
      "apache-beam                  2.31.0\n",
      "argon2-cffi                  21.3.0\n",
      "argon2-cffi-bindings         21.2.0\n",
      "arrow                        1.2.3\n",
      "asttokens                    2.2.1\n",
      "astunparse                   1.6.3\n",
      "attrs                        22.2.0\n",
      "avro-python3                 1.9.2.1\n",
      "Babel                        2.11.0\n",
      "backcall                     0.2.0\n",
      "beautifulsoup4               4.11.1\n",
      "bleach                       6.0.0\n",
      "cachetools                   5.3.0\n",
      "certifi                      2022.12.7\n",
      "cffi                         1.15.1\n",
      "charset-normalizer           3.0.1\n",
      "colorama                     0.4.6\n",
      "comm                         0.1.2\n",
      "contextlib2                  21.6.0\n",
      "crcmod                       1.7\n",
      "cycler                       0.11.0\n",
      "Cython                       0.29.33\n",
      "debtcollector                2.5.0\n",
      "debugpy                      1.6.6\n",
      "decorator                    5.1.1\n",
      "defusedxml                   0.7.1\n",
      "dill                         0.3.1.1\n",
      "dm-tree                      0.1.8\n",
      "dnspython                    2.3.0\n",
      "docopt                       0.6.2\n",
      "eventlet                     0.33.3\n",
      "executing                    1.2.0\n",
      "fastavro                     1.7.1\n",
      "fasteners                    0.18\n",
      "fastjsonschema               2.16.2\n",
      "flatbuffers                  23.1.21\n",
      "fqdn                         1.5.1\n",
      "future                       0.18.3\n",
      "gast                         0.4.0\n",
      "gin-config                   0.1.1\n",
      "google-auth                  2.16.0\n",
      "google-auth-oauthlib         0.4.6\n",
      "google-pasta                 0.2.0\n",
      "greenlet                     2.0.2\n",
      "grpcio                       1.34.1\n",
      "h5py                         3.1.0\n",
      "hdfs                         2.7.0\n",
      "httplib2                     0.19.1\n",
      "idna                         3.4\n",
      "importlib-metadata           6.0.0\n",
      "importlib-resources          5.10.2\n",
      "ipykernel                    6.20.2\n",
      "ipython                      8.9.0\n",
      "ipython-genutils             0.2.0\n",
      "ipywidgets                   8.0.4\n",
      "iso8601                      1.1.0\n",
      "isoduration                  20.11.0\n",
      "jedi                         0.18.2\n",
      "Jinja2                       3.1.2\n",
      "json5                        0.9.11\n",
      "jsonpointer                  2.3\n",
      "jsonschema                   4.17.3\n",
      "jupyter                      1.0.0\n",
      "jupyter_client               8.0.1\n",
      "jupyter-console              6.4.4\n",
      "jupyter_core                 5.1.5\n",
      "jupyter-events               0.6.3\n",
      "jupyter_server               2.1.0\n",
      "jupyter_server_terminals     0.4.4\n",
      "jupyterlab                   3.5.3\n",
      "jupyterlab-pygments          0.2.2\n",
      "jupyterlab_server            2.19.0\n",
      "jupyterlab-widgets           3.0.5\n",
      "keras                        2.10.0\n",
      "keras-nightly                2.5.0.dev2021032900\n",
      "Keras-Preprocessing          1.1.2\n",
      "kiwisolver                   1.4.4\n",
      "libclang                     15.0.6.1\n",
      "libs                         0.0.10\n",
      "lvis                         0.5.3\n",
      "lxml                         4.6.3\n",
      "Markdown                     3.4.1\n",
      "MarkupSafe                   2.1.2\n",
      "matplotlib                   3.2.0\n",
      "matplotlib-inline            0.1.6\n",
      "mistune                      2.0.4\n",
      "msgpack                      1.0.4\n",
      "nbclassic                    0.5.1\n",
      "nbclient                     0.7.2\n",
      "nbconvert                    7.2.9\n",
      "nbformat                     5.7.3\n",
      "nest-asyncio                 1.5.6\n",
      "netaddr                      0.8.0\n",
      "netifaces                    0.11.0\n",
      "notebook                     6.5.2\n",
      "notebook_shim                0.2.2\n",
      "numpy                        1.20.3\n",
      "oauth2client                 4.1.3\n",
      "oauthlib                     3.2.2\n",
      "opencv-python                4.5.3.56\n",
      "opt-einsum                   3.3.0\n",
      "os-win                       5.4.0\n",
      "oslo.concurrency             5.0.1\n",
      "oslo.config                  9.1.0\n",
      "oslo.context                 5.0.0\n",
      "oslo.i18n                    5.1.0\n",
      "oslo.log                     5.0.2\n",
      "oslo.serialization           5.0.0\n",
      "oslo.utils                   6.1.0\n",
      "packaging                    23.0\n",
      "pandas                       1.3.0\n",
      "pandocfilters                1.5.0\n",
      "parso                        0.8.3\n",
      "pbr                          5.11.1\n",
      "pickleshare                  0.7.5\n",
      "Pillow                       8.3.1\n",
      "pip                          22.3.1\n",
      "pkgutil_resolve_name         1.3.10\n",
      "platformdirs                 2.6.2\n",
      "ply                          3.11\n",
      "portalocker                  2.7.0\n",
      "prometheus-client            0.16.0\n",
      "promise                      2.3\n",
      "prompt-toolkit               3.0.36\n",
      "protobuf                     3.19.6\n",
      "psutil                       5.9.4\n",
      "pure-eval                    0.2.2\n",
      "py-cpuinfo                   9.0.0\n",
      "pyarrow                      4.0.1\n",
      "pyasn1                       0.4.8\n",
      "pyasn1-modules               0.2.8\n",
      "pycocotools                  2.0.2\n",
      "pycparser                    2.21\n",
      "pydot                        1.4.2\n",
      "Pygments                     2.14.0\n",
      "PyMI                         1.0.6\n",
      "pymongo                      3.13.0\n",
      "pyparsing                    2.4.7\n",
      "PyQt5                        5.15.4\n",
      "PyQt5-Qt5                    5.15.2\n",
      "PyQt5-sip                    12.11.1\n",
      "pyrsistent                   0.19.3\n",
      "python-dateutil              2.8.2\n",
      "python-json-logger           2.0.4\n",
      "python-slugify               8.0.0\n",
      "pytz                         2021.1\n",
      "pywin32                      305\n",
      "pywinpty                     2.0.10\n",
      "PyYAML                       5.4.1\n",
      "pyzmq                        25.0.0\n",
      "qtconsole                    5.4.0\n",
      "QtPy                         2.3.0\n",
      "regex                        2022.10.31\n",
      "requests                     2.28.2\n",
      "requests-oauthlib            1.3.1\n",
      "rfc3339-validator            0.1.4\n",
      "rfc3986                      2.0.0\n",
      "rfc3986-validator            0.1.1\n",
      "rsa                          4.9\n",
      "scipy                        1.10.0\n",
      "Send2Trash                   1.8.0\n",
      "sentencepiece                0.1.97\n",
      "setuptools                   56.0.0\n",
      "sip                          6.6.1\n",
      "six                          1.15.0\n",
      "sklearn                      0.0.post1\n",
      "sniffio                      1.3.0\n",
      "soupsieve                    2.3.2.post1\n",
      "stack-data                   0.6.2\n",
      "stevedore                    4.1.1\n",
      "tabulate                     0.9.0\n",
      "tensorboard                  2.11.2\n",
      "tensorboard-data-server      0.6.1\n",
      "tensorboard-plugin-wit       1.8.1\n",
      "tensorflow                   2.5.0\n",
      "tensorflow-addons            0.19.0\n",
      "tensorflow-estimator         2.10.0\n",
      "tensorflow-gpu               2.5.0\n",
      "tensorflow-intel             2.11.0\n",
      "tensorflow-io-gcs-filesystem 0.30.0\n",
      "termcolor                    1.1.0\n",
      "terminado                    0.17.1\n",
      "text-unidecode               1.3\n",
      "threadpoolctl                3.1.0\n",
      "tinycss2                     1.2.1\n",
      "toml                         0.10.2\n",
      "tomli                        2.0.1\n",
      "tornado                      6.2\n",
      "tqdm                         4.64.1\n",
      "traitlets                    5.8.1\n",
      "typeguard                    2.12.1\n",
      "typing-extensions            3.7.4.3\n",
      "uri-template                 1.2.0\n",
      "uritemplate                  4.1.1\n",
      "urllib3                      1.26.14\n",
      "uuid                         1.30\n",
      "wcwidth                      0.2.6\n",
      "webcolors                    1.12\n",
      "webencodings                 0.5.1\n",
      "websocket-client             1.5.0\n",
      "Werkzeug                     2.2.2\n",
      "wget                         3.2\n",
      "wheel                        0.36.2\n",
      "widgetsnbextension           4.0.5\n",
      "WMI                          1.5.1\n",
      "wrapt                        1.12.1\n",
      "zipp                         3.12.0\n"
     ]
    },
    {
     "name": "stderr",
     "output_type": "stream",
     "text": [
      "WARNING: Ignoring invalid distribution -rotobuf (d:\\innomatics research labs\\vaibhav saran\\irl_class\\lib\\site-packages)\n",
      "WARNING: Ignoring invalid distribution -rotobuf (d:\\innomatics research labs\\vaibhav saran\\irl_class\\lib\\site-packages)\n",
      "WARNING: Ignoring invalid distribution -rotobuf (d:\\innomatics research labs\\vaibhav saran\\irl_class\\lib\\site-packages)\n",
      "WARNING: Ignoring invalid distribution -rotobuf (d:\\innomatics research labs\\vaibhav saran\\irl_class\\lib\\site-packages)\n"
     ]
    }
   ],
   "source": [
    "!pip list"
   ]
  }
 ],
 "metadata": {
  "kernelspec": {
   "display_name": "IRL_class",
   "language": "python",
   "name": "irl_class"
  },
  "language_info": {
   "codemirror_mode": {
    "name": "ipython",
    "version": 3
   },
   "file_extension": ".py",
   "mimetype": "text/x-python",
   "name": "python",
   "nbconvert_exporter": "python",
   "pygments_lexer": "ipython3",
   "version": "3.8.10"
  }
 },
 "nbformat": 4,
 "nbformat_minor": 5
}

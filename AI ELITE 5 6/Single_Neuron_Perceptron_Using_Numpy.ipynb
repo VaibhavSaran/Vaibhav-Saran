{
  "nbformat": 4,
  "nbformat_minor": 0,
  "metadata": {
    "colab": {
      "provenance": [],
      "collapsed_sections": [
        "Z7OasZCZNHdh",
        "dRTwBtB4NiA7",
        "Z2FFRlE2SG_F"
      ]
    },
    "kernelspec": {
      "name": "python3",
      "display_name": "Python 3"
    },
    "language_info": {
      "name": "python"
    }
  },
  "cells": [
    {
      "cell_type": "markdown",
      "source": [
        "# 1) Importing Requisite Libraries"
      ],
      "metadata": {
        "id": "Z7OasZCZNHdh"
      }
    },
    {
      "cell_type": "code",
      "execution_count": null,
      "metadata": {
        "id": "X1QTWWfIMzh1"
      },
      "outputs": [],
      "source": [
        "import numpy as np"
      ]
    },
    {
      "cell_type": "markdown",
      "source": [
        "# 2) Defining Class Perceptron"
      ],
      "metadata": {
        "id": "dRTwBtB4NiA7"
      }
    },
    {
      "cell_type": "code",
      "source": [
        "class Perceptron:\n",
        "\n",
        "# Constructor to initialize weights, bias and learning rate\n",
        "  def __init__(self, learning_rate=0.1):\n",
        "    self.weights = None\n",
        "    self.bias = None\n",
        "    self.learning_rate = learning_rate\n",
        "\n",
        "# Fit function trains the model using input data 'X' and target output 'y'    \n",
        "  def fit(self,X,y,epochs=100):\n",
        "    self.weights = np.random.rand(X.shape[1])\n",
        "    self.bias = np.random.rand(1)\n",
        "    for epoch in range(epochs):\n",
        "      for i in range(len(y)):\n",
        "        z= np.dot(X[i],self.weights) + self.bias\n",
        "        y_pred = self.activation(z)\n",
        "        error = y[i]-y_pred\n",
        "        self.weights += self.learning_rate * error * X[i]\n",
        "        self.bias += self.learning_rate * error\n",
        "\n",
        " # step activation function to convert linear combination of inputs and weights into a binary output \n",
        "  def activation(self,z):\n",
        "    return 1 if z>=0 else 0\n",
        "\n",
        " # Function to make predictions \n",
        "  def predict(self,X):\n",
        "    y_pred=[]\n",
        "    for i in range(len(X)):\n",
        "      z = np.dot(X[i], self.weights) + self.bias\n",
        "      y = self.activation(z)\n",
        "      y_pred.append(y)\n",
        "    return np.array(y_pred)"
      ],
      "metadata": {
        "id": "VAjw_gliNfIW"
      },
      "execution_count": null,
      "outputs": []
    },
    {
      "cell_type": "markdown",
      "source": [
        "# 3) Implementing Sample Input"
      ],
      "metadata": {
        "id": "Z2FFRlE2SG_F"
      }
    },
    {
      "cell_type": "code",
      "source": [
        "# Implementing OR gate using SNP\n",
        "X = np.array([[0,0],[0,1],[1,0],[1,1]])\n",
        "y = np.array([0,1,1,1])\n",
        "\n",
        "# Creating an object of Perceptron class\n",
        "perceptron = Perceptron()\n",
        "\n",
        "# Training the model for training \n",
        "perceptron.fit(X,y)\n",
        "\n",
        "# Making predictions\n",
        "y_pred = perceptron.predict(X)\n",
        "\n",
        "print(\"Predictions: \", y_pred)"
      ],
      "metadata": {
        "colab": {
          "base_uri": "https://localhost:8080/"
        },
        "id": "Xux5H7W8SFS1",
        "outputId": "b8f55c33-f879-431f-9829-9c6c633b5abb"
      },
      "execution_count": null,
      "outputs": [
        {
          "output_type": "stream",
          "name": "stdout",
          "text": [
            "Predictions:  [0 1 1 1]\n"
          ]
        }
      ]
    }
  ]
}
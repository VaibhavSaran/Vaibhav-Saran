{
  "nbformat": 4,
  "nbformat_minor": 0,
  "metadata": {
    "colab": {
      "provenance": []
    },
    "kernelspec": {
      "name": "python3",
      "display_name": "Python 3"
    },
    "language_info": {
      "name": "python"
    }
  },
  "cells": [
    {
      "cell_type": "markdown",
      "source": [
        "# Mounting Google Drive"
      ],
      "metadata": {
        "id": "lqeIXFg2rC1g"
      }
    },
    {
      "cell_type": "code",
      "execution_count": null,
      "metadata": {
        "colab": {
          "base_uri": "https://localhost:8080/"
        },
        "id": "SLcVzSaEqzRf",
        "outputId": "a714ada2-1a91-4481-9fd5-1c5c5ff1609e"
      },
      "outputs": [
        {
          "output_type": "stream",
          "name": "stdout",
          "text": [
            "Drive already mounted at /content/drive; to attempt to forcibly remount, call drive.mount(\"/content/drive\", force_remount=True).\n"
          ]
        }
      ],
      "source": [
        "from  google.colab import drive\n",
        "drive.mount('/content/drive')"
      ]
    },
    {
      "cell_type": "markdown",
      "source": [
        "# Dataset Information\n",
        "This dataset is originally from the National Institute of Diabetes and Digestive and Kidney Diseases. The objective of the dataset is to diagnostically predict whether or not a patient has diabetes, based on certain diagnostic measurements included in the dataset. Several constraints were placed on the selection of these instances from a larger database. In particular, all patients here are females at least 21 years old of Pima Indian heritage.\n"
      ],
      "metadata": {
        "id": "gZaAKeiYNw09"
      }
    },
    {
      "cell_type": "markdown",
      "source": [
        "# 1) Importing Requisite Libraries"
      ],
      "metadata": {
        "id": "5xnSfw3gri5c"
      }
    },
    {
      "cell_type": "code",
      "source": [
        "import numpy as np\n",
        "import pandas as pd\n",
        "from tensorflow import keras\n",
        "from keras.layers import Dense\n",
        "from keras.models import Sequential"
      ],
      "metadata": {
        "id": "zvhkJ8wFrS2l"
      },
      "execution_count": null,
      "outputs": []
    },
    {
      "cell_type": "markdown",
      "source": [
        "# 2) Loading The Dataset"
      ],
      "metadata": {
        "id": "rRCHQKmJK25j"
      }
    },
    {
      "cell_type": "code",
      "source": [
        "DataFrame = pd.read_csv(\"/content/drive/MyDrive/Colab Notebooks/dataset/diabetes.csv\")\n",
        "DataFrame.head()"
      ],
      "metadata": {
        "colab": {
          "base_uri": "https://localhost:8080/",
          "height": 206
        },
        "id": "z-91zJzGgHNv",
        "outputId": "2eef1c89-3033-4419-a2e1-3a04474c9851"
      },
      "execution_count": null,
      "outputs": [
        {
          "output_type": "execute_result",
          "data": {
            "text/plain": [
              "   Pregnancies  Glucose  BloodPressure  SkinThickness  Insulin   BMI  \\\n",
              "0            6      148             72             35        0  33.6   \n",
              "1            1       85             66             29        0  26.6   \n",
              "2            8      183             64              0        0  23.3   \n",
              "3            1       89             66             23       94  28.1   \n",
              "4            0      137             40             35      168  43.1   \n",
              "\n",
              "   DiabetesPedigreeFunction  Age  Outcome  \n",
              "0                     0.627   50        1  \n",
              "1                     0.351   31        0  \n",
              "2                     0.672   32        1  \n",
              "3                     0.167   21        0  \n",
              "4                     2.288   33        1  "
            ],
            "text/html": [
              "\n",
              "  <div id=\"df-a5dd0dae-5716-4a5a-b244-b5ab2dca5de0\">\n",
              "    <div class=\"colab-df-container\">\n",
              "      <div>\n",
              "<style scoped>\n",
              "    .dataframe tbody tr th:only-of-type {\n",
              "        vertical-align: middle;\n",
              "    }\n",
              "\n",
              "    .dataframe tbody tr th {\n",
              "        vertical-align: top;\n",
              "    }\n",
              "\n",
              "    .dataframe thead th {\n",
              "        text-align: right;\n",
              "    }\n",
              "</style>\n",
              "<table border=\"1\" class=\"dataframe\">\n",
              "  <thead>\n",
              "    <tr style=\"text-align: right;\">\n",
              "      <th></th>\n",
              "      <th>Pregnancies</th>\n",
              "      <th>Glucose</th>\n",
              "      <th>BloodPressure</th>\n",
              "      <th>SkinThickness</th>\n",
              "      <th>Insulin</th>\n",
              "      <th>BMI</th>\n",
              "      <th>DiabetesPedigreeFunction</th>\n",
              "      <th>Age</th>\n",
              "      <th>Outcome</th>\n",
              "    </tr>\n",
              "  </thead>\n",
              "  <tbody>\n",
              "    <tr>\n",
              "      <th>0</th>\n",
              "      <td>6</td>\n",
              "      <td>148</td>\n",
              "      <td>72</td>\n",
              "      <td>35</td>\n",
              "      <td>0</td>\n",
              "      <td>33.6</td>\n",
              "      <td>0.627</td>\n",
              "      <td>50</td>\n",
              "      <td>1</td>\n",
              "    </tr>\n",
              "    <tr>\n",
              "      <th>1</th>\n",
              "      <td>1</td>\n",
              "      <td>85</td>\n",
              "      <td>66</td>\n",
              "      <td>29</td>\n",
              "      <td>0</td>\n",
              "      <td>26.6</td>\n",
              "      <td>0.351</td>\n",
              "      <td>31</td>\n",
              "      <td>0</td>\n",
              "    </tr>\n",
              "    <tr>\n",
              "      <th>2</th>\n",
              "      <td>8</td>\n",
              "      <td>183</td>\n",
              "      <td>64</td>\n",
              "      <td>0</td>\n",
              "      <td>0</td>\n",
              "      <td>23.3</td>\n",
              "      <td>0.672</td>\n",
              "      <td>32</td>\n",
              "      <td>1</td>\n",
              "    </tr>\n",
              "    <tr>\n",
              "      <th>3</th>\n",
              "      <td>1</td>\n",
              "      <td>89</td>\n",
              "      <td>66</td>\n",
              "      <td>23</td>\n",
              "      <td>94</td>\n",
              "      <td>28.1</td>\n",
              "      <td>0.167</td>\n",
              "      <td>21</td>\n",
              "      <td>0</td>\n",
              "    </tr>\n",
              "    <tr>\n",
              "      <th>4</th>\n",
              "      <td>0</td>\n",
              "      <td>137</td>\n",
              "      <td>40</td>\n",
              "      <td>35</td>\n",
              "      <td>168</td>\n",
              "      <td>43.1</td>\n",
              "      <td>2.288</td>\n",
              "      <td>33</td>\n",
              "      <td>1</td>\n",
              "    </tr>\n",
              "  </tbody>\n",
              "</table>\n",
              "</div>\n",
              "      <button class=\"colab-df-convert\" onclick=\"convertToInteractive('df-a5dd0dae-5716-4a5a-b244-b5ab2dca5de0')\"\n",
              "              title=\"Convert this dataframe to an interactive table.\"\n",
              "              style=\"display:none;\">\n",
              "        \n",
              "  <svg xmlns=\"http://www.w3.org/2000/svg\" height=\"24px\"viewBox=\"0 0 24 24\"\n",
              "       width=\"24px\">\n",
              "    <path d=\"M0 0h24v24H0V0z\" fill=\"none\"/>\n",
              "    <path d=\"M18.56 5.44l.94 2.06.94-2.06 2.06-.94-2.06-.94-.94-2.06-.94 2.06-2.06.94zm-11 1L8.5 8.5l.94-2.06 2.06-.94-2.06-.94L8.5 2.5l-.94 2.06-2.06.94zm10 10l.94 2.06.94-2.06 2.06-.94-2.06-.94-.94-2.06-.94 2.06-2.06.94z\"/><path d=\"M17.41 7.96l-1.37-1.37c-.4-.4-.92-.59-1.43-.59-.52 0-1.04.2-1.43.59L10.3 9.45l-7.72 7.72c-.78.78-.78 2.05 0 2.83L4 21.41c.39.39.9.59 1.41.59.51 0 1.02-.2 1.41-.59l7.78-7.78 2.81-2.81c.8-.78.8-2.07 0-2.86zM5.41 20L4 18.59l7.72-7.72 1.47 1.35L5.41 20z\"/>\n",
              "  </svg>\n",
              "      </button>\n",
              "      \n",
              "  <style>\n",
              "    .colab-df-container {\n",
              "      display:flex;\n",
              "      flex-wrap:wrap;\n",
              "      gap: 12px;\n",
              "    }\n",
              "\n",
              "    .colab-df-convert {\n",
              "      background-color: #E8F0FE;\n",
              "      border: none;\n",
              "      border-radius: 50%;\n",
              "      cursor: pointer;\n",
              "      display: none;\n",
              "      fill: #1967D2;\n",
              "      height: 32px;\n",
              "      padding: 0 0 0 0;\n",
              "      width: 32px;\n",
              "    }\n",
              "\n",
              "    .colab-df-convert:hover {\n",
              "      background-color: #E2EBFA;\n",
              "      box-shadow: 0px 1px 2px rgba(60, 64, 67, 0.3), 0px 1px 3px 1px rgba(60, 64, 67, 0.15);\n",
              "      fill: #174EA6;\n",
              "    }\n",
              "\n",
              "    [theme=dark] .colab-df-convert {\n",
              "      background-color: #3B4455;\n",
              "      fill: #D2E3FC;\n",
              "    }\n",
              "\n",
              "    [theme=dark] .colab-df-convert:hover {\n",
              "      background-color: #434B5C;\n",
              "      box-shadow: 0px 1px 3px 1px rgba(0, 0, 0, 0.15);\n",
              "      filter: drop-shadow(0px 1px 2px rgba(0, 0, 0, 0.3));\n",
              "      fill: #FFFFFF;\n",
              "    }\n",
              "  </style>\n",
              "\n",
              "      <script>\n",
              "        const buttonEl =\n",
              "          document.querySelector('#df-a5dd0dae-5716-4a5a-b244-b5ab2dca5de0 button.colab-df-convert');\n",
              "        buttonEl.style.display =\n",
              "          google.colab.kernel.accessAllowed ? 'block' : 'none';\n",
              "\n",
              "        async function convertToInteractive(key) {\n",
              "          const element = document.querySelector('#df-a5dd0dae-5716-4a5a-b244-b5ab2dca5de0');\n",
              "          const dataTable =\n",
              "            await google.colab.kernel.invokeFunction('convertToInteractive',\n",
              "                                                     [key], {});\n",
              "          if (!dataTable) return;\n",
              "\n",
              "          const docLinkHtml = 'Like what you see? Visit the ' +\n",
              "            '<a target=\"_blank\" href=https://colab.research.google.com/notebooks/data_table.ipynb>data table notebook</a>'\n",
              "            + ' to learn more about interactive tables.';\n",
              "          element.innerHTML = '';\n",
              "          dataTable['output_type'] = 'display_data';\n",
              "          await google.colab.output.renderOutput(dataTable, element);\n",
              "          const docLink = document.createElement('div');\n",
              "          docLink.innerHTML = docLinkHtml;\n",
              "          element.appendChild(docLink);\n",
              "        }\n",
              "      </script>\n",
              "    </div>\n",
              "  </div>\n",
              "  "
            ]
          },
          "metadata": {},
          "execution_count": 3
        }
      ]
    },
    {
      "cell_type": "code",
      "source": [
        "DataFrame.shape"
      ],
      "metadata": {
        "colab": {
          "base_uri": "https://localhost:8080/"
        },
        "id": "u2yy9NuYNcEB",
        "outputId": "26ae9f62-90f5-4149-e9f7-86d1ccbdef89"
      },
      "execution_count": null,
      "outputs": [
        {
          "output_type": "execute_result",
          "data": {
            "text/plain": [
              "(768, 9)"
            ]
          },
          "metadata": {},
          "execution_count": 4
        }
      ]
    },
    {
      "cell_type": "code",
      "source": [
        "DataFrame.info()"
      ],
      "metadata": {
        "colab": {
          "base_uri": "https://localhost:8080/"
        },
        "id": "gXeuh8rtNTRe",
        "outputId": "9d70eabd-9dd6-4fbc-a67c-dea933d166eb"
      },
      "execution_count": null,
      "outputs": [
        {
          "output_type": "stream",
          "name": "stdout",
          "text": [
            "<class 'pandas.core.frame.DataFrame'>\n",
            "RangeIndex: 768 entries, 0 to 767\n",
            "Data columns (total 9 columns):\n",
            " #   Column                    Non-Null Count  Dtype  \n",
            "---  ------                    --------------  -----  \n",
            " 0   Pregnancies               768 non-null    int64  \n",
            " 1   Glucose                   768 non-null    int64  \n",
            " 2   BloodPressure             768 non-null    int64  \n",
            " 3   SkinThickness             768 non-null    int64  \n",
            " 4   Insulin                   768 non-null    int64  \n",
            " 5   BMI                       768 non-null    float64\n",
            " 6   DiabetesPedigreeFunction  768 non-null    float64\n",
            " 7   Age                       768 non-null    int64  \n",
            " 8   Outcome                   768 non-null    int64  \n",
            "dtypes: float64(2), int64(7)\n",
            "memory usage: 54.1 KB\n"
          ]
        }
      ]
    },
    {
      "cell_type": "markdown",
      "source": [
        "## Observations:\n",
        "1) There are 768 rows and 9 columns/features.<br>\n",
        "2) BMI and DiabetesPedigreeFunction are float and rest all the columns are integer type.<br>\n",
        "3) There are no null values.<br>\n",
        "4) Input Variables:<br>\n",
        "**Pregnancies**: Number of times pregnant<br>\n",
        "**Glucose**: Plasma glucose concentration at 2 hours in an oral glucose tolerance test<br>\n",
        "**BloodPressure**: Diastolic blood pressure (mm Hg)<br>\n",
        "**SkinThickness**: Triceps skin fold thickness (mm)<br>\n",
        "**Insulin**: 2-hour serum insulin (mu U/ml)<br>\n",
        "**BMI**: Body mass index (weight in kg/(height in m)^2)<br>\n",
        "**Diabetes pedigree function**:<br>\n",
        "**Age**: years<br>\n",
        "5) Target Variable: **Outcome**"
      ],
      "metadata": {
        "id": "EDtsAyNSMB99"
      }
    },
    {
      "cell_type": "code",
      "source": [
        "DataFrame = np.loadtxt(\"/content/drive/MyDrive/Colab Notebooks/dataset/diabetes.csv\",skiprows=1,delimiter=',')\n",
        "DataFrame\n",
        "# Loading the dataset as a multi dimension array, because we need numerical values only. Pandas dataframe can also be converted into nD array."
      ],
      "metadata": {
        "colab": {
          "base_uri": "https://localhost:8080/"
        },
        "id": "qS_ShocNLcXW",
        "outputId": "6629e1d9-bc6c-40c1-c855-8cbd6aa3fcb4"
      },
      "execution_count": null,
      "outputs": [
        {
          "output_type": "execute_result",
          "data": {
            "text/plain": [
              "array([[  6.   , 148.   ,  72.   , ...,   0.627,  50.   ,   1.   ],\n",
              "       [  1.   ,  85.   ,  66.   , ...,   0.351,  31.   ,   0.   ],\n",
              "       [  8.   , 183.   ,  64.   , ...,   0.672,  32.   ,   1.   ],\n",
              "       ...,\n",
              "       [  5.   , 121.   ,  72.   , ...,   0.245,  30.   ,   0.   ],\n",
              "       [  1.   , 126.   ,  60.   , ...,   0.349,  47.   ,   1.   ],\n",
              "       [  1.   ,  93.   ,  70.   , ...,   0.315,  23.   ,   0.   ]])"
            ]
          },
          "metadata": {},
          "execution_count": 6
        }
      ]
    },
    {
      "cell_type": "code",
      "source": [
        "# Separating the Input and Output Variables\n",
        "X = DataFrame[:,0:8]\n",
        "y = DataFrame[:,8]"
      ],
      "metadata": {
        "id": "k8yPp6tleB3K"
      },
      "execution_count": null,
      "outputs": []
    },
    {
      "cell_type": "code",
      "source": [
        "# Splitting the data into train test split in the ratio of 80:20\n",
        "from sklearn.model_selection import train_test_split\n",
        "X_train,X_test, y_train,y_test = train_test_split(X,y,test_size=0.2,random_state=10)\n",
        "print(X_train.shape, X_test.shape, y_train.shape, y_test.shape, type(X_train))"
      ],
      "metadata": {
        "colab": {
          "base_uri": "https://localhost:8080/"
        },
        "id": "ulo2_GZ2lgGN",
        "outputId": "aeab0c2d-9965-4bcf-c632-359082d07169"
      },
      "execution_count": null,
      "outputs": [
        {
          "output_type": "stream",
          "name": "stdout",
          "text": [
            "(614, 8) (154, 8) (614,) (154,) <class 'numpy.ndarray'>\n"
          ]
        }
      ]
    },
    {
      "cell_type": "code",
      "source": [
        "# Making multi layer Perceptron using keras\n",
        "\n",
        "model = Sequential() # Arrange the layers in sequential manner\n",
        "\n",
        "model.add(Dense(12, input_shape=(8,), activation='sigmoid')) \n",
        "#the shape of the input to the model is defined as an argument on the first hidden layer, so it is defining the input or visible layer and the first hidden layer.\n",
        "\n",
        "model.add(Dense(8, activation='sigmoid'))\n",
        "\n",
        "model.add(Dense(1, activation='sigmoid'))"
      ],
      "metadata": {
        "id": "n3oOgn_ueFyO"
      },
      "execution_count": null,
      "outputs": []
    },
    {
      "cell_type": "code",
      "source": [
        "from keras.utils import plot_model\n",
        "plot_model(model,show_shapes=True,show_layer_names=True)"
      ],
      "metadata": {
        "colab": {
          "base_uri": "https://localhost:8080/",
          "height": 422
        },
        "id": "xTlYVqxC-0Qm",
        "outputId": "ad698f44-7ca2-4ac3-fb93-07848ad2a59b"
      },
      "execution_count": null,
      "outputs": [
        {
          "output_type": "execute_result",
          "data": {
            "image/png": "[encoded data removed]",
            "text/plain": [
              "<IPython.core.display.Image object>"
            ]
          },
          "metadata": {},
          "execution_count": 11
        }
      ]
    },
    {
      "cell_type": "code",
      "source": [
        "# Compiling the model aka training it to find the best weights\n",
        "model.compile(loss='binary_crossentropy', optimizer='adam', metrics=['accuracy'])\n",
        "# adam(version of gradient descent) automatically tunes itself and gives good results in a wide range of problems"
      ],
      "metadata": {
        "id": "77uRpCOPef-D"
      },
      "execution_count": null,
      "outputs": []
    },
    {
      "cell_type": "code",
      "source": [
        "# Fitting the model onto the data\n",
        "model.fit(X_train,y_train, epochs=150, batch_size=10,verbose=1)\n",
        "\n",
        "# Epoch: One pass through all the rows of the training dataset\n",
        "# Batch: One or more samples considered by the model within an epoch before weights are updated\n",
        "# One epoch comprises one or more batches, based on the chosen batch size, and the model is fit for many epochs."
      ],
      "metadata": {
        "colab": {
          "base_uri": "https://localhost:8080/"
        },
        "id": "a8ww0pp0fLyS",
        "outputId": "6dd8b2d7-8910-489d-c1a3-ab8c153116b4"
      },
      "execution_count": null,
      "outputs": [
        {
          "output_type": "stream",
          "name": "stdout",
          "text": [
            "Epoch 1/150\n",
            "62/62 [==============================] - 0s 2ms/step - loss: 0.5242 - accuracy: 0.7541\n",
            "Epoch 2/150\n",
            "62/62 [==============================] - 0s 2ms/step - loss: 0.5194 - accuracy: 0.7671\n",
            "Epoch 3/150\n",
            "62/62 [==============================] - 0s 2ms/step - loss: 0.5248 - accuracy: 0.7508\n",
            "Epoch 4/150\n",
            "62/62 [==============================] - 0s 2ms/step - loss: 0.5230 - accuracy: 0.7541\n",
            "Epoch 5/150\n",
            "62/62 [==============================] - 0s 2ms/step - loss: 0.5225 - accuracy: 0.7590\n",
            "Epoch 6/150\n",
            "62/62 [==============================] - 0s 2ms/step - loss: 0.5228 - accuracy: 0.7541\n",
            "Epoch 7/150\n",
            "62/62 [==============================] - 0s 2ms/step - loss: 0.5224 - accuracy: 0.7638\n",
            "Epoch 8/150\n",
            "62/62 [==============================] - 0s 4ms/step - loss: 0.5202 - accuracy: 0.7590\n",
            "Epoch 9/150\n",
            "62/62 [==============================] - 0s 5ms/step - loss: 0.5202 - accuracy: 0.7655\n",
            "Epoch 10/150\n",
            "62/62 [==============================] - 0s 4ms/step - loss: 0.5189 - accuracy: 0.7687\n",
            "Epoch 11/150\n",
            "62/62 [==============================] - 0s 5ms/step - loss: 0.5214 - accuracy: 0.7590\n",
            "Epoch 12/150\n",
            "62/62 [==============================] - 0s 7ms/step - loss: 0.5211 - accuracy: 0.7655\n",
            "Epoch 13/150\n",
            "62/62 [==============================] - 0s 3ms/step - loss: 0.5216 - accuracy: 0.7622\n",
            "Epoch 14/150\n",
            "62/62 [==============================] - 0s 2ms/step - loss: 0.5216 - accuracy: 0.7541\n",
            "Epoch 15/150\n",
            "62/62 [==============================] - 0s 2ms/step - loss: 0.5189 - accuracy: 0.7671\n",
            "Epoch 16/150\n",
            "62/62 [==============================] - 0s 2ms/step - loss: 0.5214 - accuracy: 0.7655\n",
            "Epoch 17/150\n",
            "62/62 [==============================] - 0s 2ms/step - loss: 0.5190 - accuracy: 0.7622\n",
            "Epoch 18/150\n",
            "62/62 [==============================] - 0s 2ms/step - loss: 0.5199 - accuracy: 0.7687\n",
            "Epoch 19/150\n",
            "62/62 [==============================] - 0s 2ms/step - loss: 0.5196 - accuracy: 0.7736\n",
            "Epoch 20/150\n",
            "62/62 [==============================] - 0s 2ms/step - loss: 0.5195 - accuracy: 0.7704\n",
            "Epoch 21/150\n",
            "62/62 [==============================] - 0s 2ms/step - loss: 0.5184 - accuracy: 0.7704\n",
            "Epoch 22/150\n",
            "62/62 [==============================] - 0s 2ms/step - loss: 0.5177 - accuracy: 0.7687\n",
            "Epoch 23/150\n",
            "62/62 [==============================] - 0s 2ms/step - loss: 0.5191 - accuracy: 0.7687\n",
            "Epoch 24/150\n",
            "62/62 [==============================] - 0s 2ms/step - loss: 0.5172 - accuracy: 0.7671\n",
            "Epoch 25/150\n",
            "62/62 [==============================] - 0s 2ms/step - loss: 0.5206 - accuracy: 0.7704\n",
            "Epoch 26/150\n",
            "62/62 [==============================] - 0s 2ms/step - loss: 0.5189 - accuracy: 0.7704\n",
            "Epoch 27/150\n",
            "62/62 [==============================] - 0s 2ms/step - loss: 0.5186 - accuracy: 0.7622\n",
            "Epoch 28/150\n",
            "62/62 [==============================] - 0s 2ms/step - loss: 0.5195 - accuracy: 0.7655\n",
            "Epoch 29/150\n",
            "62/62 [==============================] - 0s 2ms/step - loss: 0.5189 - accuracy: 0.7590\n",
            "Epoch 30/150\n",
            "62/62 [==============================] - 0s 2ms/step - loss: 0.5160 - accuracy: 0.7704\n",
            "Epoch 31/150\n",
            "62/62 [==============================] - 0s 2ms/step - loss: 0.5189 - accuracy: 0.7655\n",
            "Epoch 32/150\n",
            "62/62 [==============================] - 0s 2ms/step - loss: 0.5204 - accuracy: 0.7606\n",
            "Epoch 33/150\n",
            "62/62 [==============================] - 0s 2ms/step - loss: 0.5185 - accuracy: 0.7606\n",
            "Epoch 34/150\n",
            "62/62 [==============================] - 0s 2ms/step - loss: 0.5158 - accuracy: 0.7590\n",
            "Epoch 35/150\n",
            "62/62 [==============================] - 0s 2ms/step - loss: 0.5174 - accuracy: 0.7687\n",
            "Epoch 36/150\n",
            "62/62 [==============================] - 0s 2ms/step - loss: 0.5170 - accuracy: 0.7671\n",
            "Epoch 37/150\n",
            "62/62 [==============================] - 0s 2ms/step - loss: 0.5177 - accuracy: 0.7622\n",
            "Epoch 38/150\n",
            "62/62 [==============================] - 0s 2ms/step - loss: 0.5213 - accuracy: 0.7622\n",
            "Epoch 39/150\n",
            "62/62 [==============================] - 0s 2ms/step - loss: 0.5139 - accuracy: 0.7655\n",
            "Epoch 40/150\n",
            "62/62 [==============================] - 0s 2ms/step - loss: 0.5154 - accuracy: 0.7671\n",
            "Epoch 41/150\n",
            "62/62 [==============================] - 0s 2ms/step - loss: 0.5152 - accuracy: 0.7704\n",
            "Epoch 42/150\n",
            "62/62 [==============================] - 0s 2ms/step - loss: 0.5156 - accuracy: 0.7671\n",
            "Epoch 43/150\n",
            "62/62 [==============================] - 0s 2ms/step - loss: 0.5157 - accuracy: 0.7655\n",
            "Epoch 44/150\n",
            "62/62 [==============================] - 0s 2ms/step - loss: 0.5152 - accuracy: 0.7736\n",
            "Epoch 45/150\n",
            "62/62 [==============================] - 0s 2ms/step - loss: 0.5160 - accuracy: 0.7638\n",
            "Epoch 46/150\n",
            "62/62 [==============================] - 0s 2ms/step - loss: 0.5176 - accuracy: 0.7622\n",
            "Epoch 47/150\n",
            "62/62 [==============================] - 0s 2ms/step - loss: 0.5143 - accuracy: 0.7671\n",
            "Epoch 48/150\n",
            "62/62 [==============================] - 0s 2ms/step - loss: 0.5145 - accuracy: 0.7573\n",
            "Epoch 49/150\n",
            "62/62 [==============================] - 0s 2ms/step - loss: 0.5150 - accuracy: 0.7704\n",
            "Epoch 50/150\n",
            "62/62 [==============================] - 0s 2ms/step - loss: 0.5157 - accuracy: 0.7638\n",
            "Epoch 51/150\n",
            "62/62 [==============================] - 0s 2ms/step - loss: 0.5141 - accuracy: 0.7752\n",
            "Epoch 52/150\n",
            "62/62 [==============================] - 0s 4ms/step - loss: 0.5138 - accuracy: 0.7720\n",
            "Epoch 53/150\n",
            "62/62 [==============================] - 0s 4ms/step - loss: 0.5165 - accuracy: 0.7687\n",
            "Epoch 54/150\n",
            "62/62 [==============================] - 0s 4ms/step - loss: 0.5178 - accuracy: 0.7573\n",
            "Epoch 55/150\n",
            "62/62 [==============================] - 0s 5ms/step - loss: 0.5147 - accuracy: 0.7704\n",
            "Epoch 56/150\n",
            "62/62 [==============================] - 0s 5ms/step - loss: 0.5166 - accuracy: 0.7687\n",
            "Epoch 57/150\n",
            "62/62 [==============================] - 0s 6ms/step - loss: 0.5149 - accuracy: 0.7720\n",
            "Epoch 58/150\n",
            "62/62 [==============================] - 0s 6ms/step - loss: 0.5154 - accuracy: 0.7638\n",
            "Epoch 59/150\n",
            "62/62 [==============================] - 0s 4ms/step - loss: 0.5144 - accuracy: 0.7720\n",
            "Epoch 60/150\n",
            "62/62 [==============================] - 0s 4ms/step - loss: 0.5136 - accuracy: 0.7655\n",
            "Epoch 61/150\n",
            "62/62 [==============================] - 0s 3ms/step - loss: 0.5148 - accuracy: 0.7687\n",
            "Epoch 62/150\n",
            "62/62 [==============================] - 0s 3ms/step - loss: 0.5151 - accuracy: 0.7606\n",
            "Epoch 63/150\n",
            "62/62 [==============================] - 0s 3ms/step - loss: 0.5127 - accuracy: 0.7704\n",
            "Epoch 64/150\n",
            "62/62 [==============================] - 0s 3ms/step - loss: 0.5128 - accuracy: 0.7638\n",
            "Epoch 65/150\n",
            "62/62 [==============================] - 0s 3ms/step - loss: 0.5131 - accuracy: 0.7736\n",
            "Epoch 66/150\n",
            "62/62 [==============================] - 0s 3ms/step - loss: 0.5150 - accuracy: 0.7622\n",
            "Epoch 67/150\n",
            "62/62 [==============================] - 0s 3ms/step - loss: 0.5148 - accuracy: 0.7606\n",
            "Epoch 68/150\n",
            "62/62 [==============================] - 0s 3ms/step - loss: 0.5144 - accuracy: 0.7671\n",
            "Epoch 69/150\n",
            "62/62 [==============================] - 0s 3ms/step - loss: 0.5147 - accuracy: 0.7720\n",
            "Epoch 70/150\n",
            "62/62 [==============================] - 0s 3ms/step - loss: 0.5138 - accuracy: 0.7638\n",
            "Epoch 71/150\n",
            "62/62 [==============================] - 0s 3ms/step - loss: 0.5131 - accuracy: 0.7736\n",
            "Epoch 72/150\n",
            "62/62 [==============================] - 0s 3ms/step - loss: 0.5141 - accuracy: 0.7622\n",
            "Epoch 73/150\n",
            "62/62 [==============================] - 0s 3ms/step - loss: 0.5132 - accuracy: 0.7687\n",
            "Epoch 74/150\n",
            "62/62 [==============================] - 0s 3ms/step - loss: 0.5105 - accuracy: 0.7687\n",
            "Epoch 75/150\n",
            "62/62 [==============================] - 0s 4ms/step - loss: 0.5136 - accuracy: 0.7687\n",
            "Epoch 76/150\n",
            "62/62 [==============================] - 0s 3ms/step - loss: 0.5133 - accuracy: 0.7638\n",
            "Epoch 77/150\n",
            "62/62 [==============================] - 0s 2ms/step - loss: 0.5123 - accuracy: 0.7752\n",
            "Epoch 78/150\n",
            "62/62 [==============================] - 0s 2ms/step - loss: 0.5138 - accuracy: 0.7638\n",
            "Epoch 79/150\n",
            "62/62 [==============================] - 0s 2ms/step - loss: 0.5139 - accuracy: 0.7671\n",
            "Epoch 80/150\n",
            "62/62 [==============================] - 0s 2ms/step - loss: 0.5127 - accuracy: 0.7687\n",
            "Epoch 81/150\n",
            "62/62 [==============================] - 0s 2ms/step - loss: 0.5128 - accuracy: 0.7720\n",
            "Epoch 82/150\n",
            "62/62 [==============================] - 0s 2ms/step - loss: 0.5125 - accuracy: 0.7638\n",
            "Epoch 83/150\n",
            "62/62 [==============================] - 0s 2ms/step - loss: 0.5130 - accuracy: 0.7704\n",
            "Epoch 84/150\n",
            "62/62 [==============================] - 0s 2ms/step - loss: 0.5123 - accuracy: 0.7704\n",
            "Epoch 85/150\n",
            "62/62 [==============================] - 0s 2ms/step - loss: 0.5130 - accuracy: 0.7704\n",
            "Epoch 86/150\n",
            "62/62 [==============================] - 0s 2ms/step - loss: 0.5118 - accuracy: 0.7736\n",
            "Epoch 87/150\n",
            "62/62 [==============================] - 0s 2ms/step - loss: 0.5123 - accuracy: 0.7671\n",
            "Epoch 88/150\n",
            "62/62 [==============================] - 0s 2ms/step - loss: 0.5104 - accuracy: 0.7671\n",
            "Epoch 89/150\n",
            "62/62 [==============================] - 0s 2ms/step - loss: 0.5139 - accuracy: 0.7606\n",
            "Epoch 90/150\n",
            "62/62 [==============================] - 0s 2ms/step - loss: 0.5135 - accuracy: 0.7704\n",
            "Epoch 91/150\n",
            "62/62 [==============================] - 0s 2ms/step - loss: 0.5149 - accuracy: 0.7638\n",
            "Epoch 92/150\n",
            "62/62 [==============================] - 0s 2ms/step - loss: 0.5106 - accuracy: 0.7687\n",
            "Epoch 93/150\n",
            "62/62 [==============================] - 0s 2ms/step - loss: 0.5128 - accuracy: 0.7687\n",
            "Epoch 94/150\n",
            "62/62 [==============================] - 0s 2ms/step - loss: 0.5109 - accuracy: 0.7687\n",
            "Epoch 95/150\n",
            "62/62 [==============================] - 0s 2ms/step - loss: 0.5115 - accuracy: 0.7687\n",
            "Epoch 96/150\n",
            "62/62 [==============================] - 0s 2ms/step - loss: 0.5118 - accuracy: 0.7704\n",
            "Epoch 97/150\n",
            "62/62 [==============================] - 0s 2ms/step - loss: 0.5140 - accuracy: 0.7573\n",
            "Epoch 98/150\n",
            "62/62 [==============================] - 0s 2ms/step - loss: 0.5144 - accuracy: 0.7655\n",
            "Epoch 99/150\n",
            "62/62 [==============================] - 0s 2ms/step - loss: 0.5132 - accuracy: 0.7622\n",
            "Epoch 100/150\n",
            "62/62 [==============================] - 0s 2ms/step - loss: 0.5175 - accuracy: 0.7622\n",
            "Epoch 101/150\n",
            "62/62 [==============================] - 0s 2ms/step - loss: 0.5102 - accuracy: 0.7606\n",
            "Epoch 102/150\n",
            "62/62 [==============================] - 0s 2ms/step - loss: 0.5107 - accuracy: 0.7622\n",
            "Epoch 103/150\n",
            "62/62 [==============================] - 0s 2ms/step - loss: 0.5162 - accuracy: 0.7655\n",
            "Epoch 104/150\n",
            "62/62 [==============================] - 0s 2ms/step - loss: 0.5099 - accuracy: 0.7671\n",
            "Epoch 105/150\n",
            "62/62 [==============================] - 0s 2ms/step - loss: 0.5129 - accuracy: 0.7655\n",
            "Epoch 106/150\n",
            "62/62 [==============================] - 0s 2ms/step - loss: 0.5120 - accuracy: 0.7687\n",
            "Epoch 107/150\n",
            "62/62 [==============================] - 0s 2ms/step - loss: 0.5106 - accuracy: 0.7687\n",
            "Epoch 108/150\n",
            "62/62 [==============================] - 0s 2ms/step - loss: 0.5108 - accuracy: 0.7687\n",
            "Epoch 109/150\n",
            "62/62 [==============================] - 0s 2ms/step - loss: 0.5107 - accuracy: 0.7638\n",
            "Epoch 110/150\n",
            "62/62 [==============================] - 0s 2ms/step - loss: 0.5111 - accuracy: 0.7752\n",
            "Epoch 111/150\n",
            "62/62 [==============================] - 0s 2ms/step - loss: 0.5097 - accuracy: 0.7736\n",
            "Epoch 112/150\n",
            "62/62 [==============================] - 0s 2ms/step - loss: 0.5124 - accuracy: 0.7671\n",
            "Epoch 113/150\n",
            "62/62 [==============================] - 0s 2ms/step - loss: 0.5144 - accuracy: 0.7508\n",
            "Epoch 114/150\n",
            "62/62 [==============================] - 0s 2ms/step - loss: 0.5138 - accuracy: 0.7704\n",
            "Epoch 115/150\n",
            "62/62 [==============================] - 0s 2ms/step - loss: 0.5118 - accuracy: 0.7671\n",
            "Epoch 116/150\n",
            "62/62 [==============================] - 0s 2ms/step - loss: 0.5109 - accuracy: 0.7655\n",
            "Epoch 117/150\n",
            "62/62 [==============================] - 0s 2ms/step - loss: 0.5094 - accuracy: 0.7622\n",
            "Epoch 118/150\n",
            "62/62 [==============================] - 0s 2ms/step - loss: 0.5105 - accuracy: 0.7622\n",
            "Epoch 119/150\n",
            "62/62 [==============================] - 0s 2ms/step - loss: 0.5116 - accuracy: 0.7671\n",
            "Epoch 120/150\n",
            "62/62 [==============================] - 0s 2ms/step - loss: 0.5131 - accuracy: 0.7606\n",
            "Epoch 121/150\n",
            "62/62 [==============================] - 0s 2ms/step - loss: 0.5113 - accuracy: 0.7671\n",
            "Epoch 122/150\n",
            "62/62 [==============================] - 0s 2ms/step - loss: 0.5117 - accuracy: 0.7704\n",
            "Epoch 123/150\n",
            "62/62 [==============================] - 0s 2ms/step - loss: 0.5099 - accuracy: 0.7590\n",
            "Epoch 124/150\n",
            "62/62 [==============================] - 0s 2ms/step - loss: 0.5093 - accuracy: 0.7622\n",
            "Epoch 125/150\n",
            "62/62 [==============================] - 0s 2ms/step - loss: 0.5123 - accuracy: 0.7622\n",
            "Epoch 126/150\n",
            "62/62 [==============================] - 0s 2ms/step - loss: 0.5090 - accuracy: 0.7720\n",
            "Epoch 127/150\n",
            "62/62 [==============================] - 0s 2ms/step - loss: 0.5095 - accuracy: 0.7720\n",
            "Epoch 128/150\n",
            "62/62 [==============================] - 0s 2ms/step - loss: 0.5089 - accuracy: 0.7638\n",
            "Epoch 129/150\n",
            "62/62 [==============================] - 0s 2ms/step - loss: 0.5089 - accuracy: 0.7720\n",
            "Epoch 130/150\n",
            "62/62 [==============================] - 0s 2ms/step - loss: 0.5084 - accuracy: 0.7687\n",
            "Epoch 131/150\n",
            "62/62 [==============================] - 0s 2ms/step - loss: 0.5083 - accuracy: 0.7704\n",
            "Epoch 132/150\n",
            "62/62 [==============================] - 0s 2ms/step - loss: 0.5080 - accuracy: 0.7720\n",
            "Epoch 133/150\n",
            "62/62 [==============================] - 0s 2ms/step - loss: 0.5065 - accuracy: 0.7687\n",
            "Epoch 134/150\n",
            "62/62 [==============================] - 0s 2ms/step - loss: 0.5079 - accuracy: 0.7671\n",
            "Epoch 135/150\n",
            "62/62 [==============================] - 0s 2ms/step - loss: 0.5113 - accuracy: 0.7687\n",
            "Epoch 136/150\n",
            "62/62 [==============================] - 0s 2ms/step - loss: 0.5076 - accuracy: 0.7622\n",
            "Epoch 137/150\n",
            "62/62 [==============================] - 0s 2ms/step - loss: 0.5103 - accuracy: 0.7655\n",
            "Epoch 138/150\n",
            "62/62 [==============================] - 0s 2ms/step - loss: 0.5107 - accuracy: 0.7687\n",
            "Epoch 139/150\n",
            "62/62 [==============================] - 0s 2ms/step - loss: 0.5066 - accuracy: 0.7785\n",
            "Epoch 140/150\n",
            "62/62 [==============================] - 0s 2ms/step - loss: 0.5081 - accuracy: 0.7638\n",
            "Epoch 141/150\n",
            "62/62 [==============================] - 0s 2ms/step - loss: 0.5084 - accuracy: 0.7736\n",
            "Epoch 142/150\n",
            "62/62 [==============================] - 0s 2ms/step - loss: 0.5093 - accuracy: 0.7720\n",
            "Epoch 143/150\n",
            "62/62 [==============================] - 0s 2ms/step - loss: 0.5076 - accuracy: 0.7704\n",
            "Epoch 144/150\n",
            "62/62 [==============================] - 0s 2ms/step - loss: 0.5090 - accuracy: 0.7622\n",
            "Epoch 145/150\n",
            "62/62 [==============================] - 0s 2ms/step - loss: 0.5087 - accuracy: 0.7655\n",
            "Epoch 146/150\n",
            "62/62 [==============================] - 0s 2ms/step - loss: 0.5063 - accuracy: 0.7687\n",
            "Epoch 147/150\n",
            "62/62 [==============================] - 0s 2ms/step - loss: 0.5085 - accuracy: 0.7720\n",
            "Epoch 148/150\n",
            "62/62 [==============================] - 0s 2ms/step - loss: 0.5069 - accuracy: 0.7720\n",
            "Epoch 149/150\n",
            "62/62 [==============================] - 0s 2ms/step - loss: 0.5101 - accuracy: 0.7687\n",
            "Epoch 150/150\n",
            "62/62 [==============================] - 0s 3ms/step - loss: 0.5067 - accuracy: 0.7769\n"
          ]
        },
        {
          "output_type": "execute_result",
          "data": {
            "text/plain": [
              "<keras.callbacks.History at 0x7f97f334cca0>"
            ]
          },
          "metadata": {},
          "execution_count": 15
        }
      ]
    },
    {
      "cell_type": "code",
      "source": [
        "# evaluating the model\n",
        "loss, accuracy = model.evaluate(X_test, y_test,verbose=0)\n",
        "print('Model loss: %.2f , Accuracy: %.2f' % ((loss*100),(accuracy*100)))"
      ],
      "metadata": {
        "id": "gKCvtP1RfL1S",
        "colab": {
          "base_uri": "https://localhost:8080/"
        },
        "outputId": "b9b6cfd9-6914-4bc7-a0d9-7057a48e70a1"
      },
      "execution_count": null,
      "outputs": [
        {
          "output_type": "stream",
          "name": "stdout",
          "text": [
            "Model loss: 63.99 , Accuracy: 66.23\n"
          ]
        }
      ]
    }
  ]
}